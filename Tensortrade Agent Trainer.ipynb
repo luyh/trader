{
 "cells": [
  {
   "cell_type": "code",
   "execution_count": 25,
   "metadata": {},
   "outputs": [
    {
     "name": "stdout",
     "output_type": "stream",
     "text": [
      "Processing c:\\users\\codeninja\\dev\\ta\n",
      "Requirement already satisfied, skipping upgrade: numpy in c:\\users\\codeninja\\appdata\\roaming\\python\\python37\\site-packages (from ta==0.4.7) (1.16.4)\n",
      "Requirement already satisfied, skipping upgrade: pandas in c:\\users\\codeninja\\appdata\\roaming\\python\\python37\\site-packages (from ta==0.4.7) (0.25.0)\n",
      "Requirement already satisfied, skipping upgrade: scikit-learn in c:\\users\\codeninja\\anaconda3\\envs\\tt_fresh\\lib\\site-packages (from ta==0.4.7) (0.21.3)\n",
      "Requirement already satisfied, skipping upgrade: python-dateutil>=2.6.1 in c:\\users\\codeninja\\anaconda3\\envs\\tt_fresh\\lib\\site-packages (from pandas->ta==0.4.7) (2.8.0)\n",
      "Requirement already satisfied, skipping upgrade: pytz>=2017.2 in c:\\users\\codeninja\\anaconda3\\envs\\tt_fresh\\lib\\site-packages (from pandas->ta==0.4.7) (2019.3)\n",
      "Requirement already satisfied, skipping upgrade: scipy>=0.17.0 in c:\\users\\codeninja\\anaconda3\\envs\\tt_fresh\\lib\\site-packages (from scikit-learn->ta==0.4.7) (1.3.1)\n",
      "Requirement already satisfied, skipping upgrade: joblib>=0.11 in c:\\users\\codeninja\\anaconda3\\envs\\tt_fresh\\lib\\site-packages (from scikit-learn->ta==0.4.7) (0.14.0)\n",
      "Requirement already satisfied, skipping upgrade: six>=1.5 in c:\\users\\codeninja\\anaconda3\\envs\\tt_fresh\\lib\\site-packages (from python-dateutil>=2.6.1->pandas->ta==0.4.7) (1.12.0)\n",
      "Building wheels for collected packages: ta\n",
      "  Building wheel for ta (setup.py): started\n",
      "  Building wheel for ta (setup.py): finished with status 'done'\n",
      "  Created wheel for ta: filename=ta-0.4.7-cp37-none-any.whl size=18717 sha256=3123ccceda02c5ac432377d5bf2bf482b81a246b78a23a2a32dcbf775cf2ab25\n",
      "  Stored in directory: C:\\Users\\CODENI~1\\AppData\\Local\\Temp\\pip-ephem-wheel-cache-n2h8vvo4\\wheels\\71\\d3\\81\\76a2b4c89b367a05e6c899b7dbeffa9e9a257871c466c4597e\n",
      "Successfully built ta\n",
      "Installing collected packages: ta\n",
      "  Found existing installation: ta 0.4.7\n",
      "    Uninstalling ta-0.4.7:\n",
      "      Successfully uninstalled ta-0.4.7\n",
      "Successfully installed ta-0.4.7\n"
     ]
    }
   ],
   "source": [
    "!pip install ../ta -U\n",
    "# !pip install neat-python -U\n",
    "# !pip install tensortrade[tensorforce] -U --user"
   ]
  },
  {
   "cell_type": "code",
   "execution_count": 26,
   "metadata": {},
   "outputs": [
    {
     "data": {
      "text/plain": [
       "True"
      ]
     },
     "execution_count": 26,
     "metadata": {},
     "output_type": "execute_result"
    }
   ],
   "source": [
    "import tensorflow as tf\n",
    "tf.enable_eager_execution()\n",
    "tf.executing_eagerly()\n"
   ]
  },
  {
   "cell_type": "code",
   "execution_count": 27,
   "metadata": {},
   "outputs": [
    {
     "data": {
      "text/plain": [
       "['C:\\\\Users\\\\codeninja\\\\Dev\\\\trader',\n",
       " 'C:\\\\Users\\\\codeninja\\\\Anaconda3\\\\envs\\\\tt_fresh\\\\python37.zip',\n",
       " 'C:\\\\Users\\\\codeninja\\\\Anaconda3\\\\envs\\\\tt_fresh\\\\DLLs',\n",
       " 'C:\\\\Users\\\\codeninja\\\\Anaconda3\\\\envs\\\\tt_fresh\\\\lib',\n",
       " 'C:\\\\Users\\\\codeninja\\\\Anaconda3\\\\envs\\\\tt_fresh',\n",
       " '',\n",
       " 'C:\\\\Users\\\\codeninja\\\\AppData\\\\Roaming\\\\Python\\\\Python37\\\\site-packages',\n",
       " 'C:\\\\Users\\\\codeninja\\\\Anaconda3\\\\envs\\\\tt_fresh\\\\lib\\\\site-packages',\n",
       " 'C:\\\\Users\\\\codeninja\\\\Anaconda3\\\\envs\\\\tt_fresh\\\\lib\\\\site-packages\\\\win32',\n",
       " 'C:\\\\Users\\\\codeninja\\\\Anaconda3\\\\envs\\\\tt_fresh\\\\lib\\\\site-packages\\\\win32\\\\lib',\n",
       " 'C:\\\\Users\\\\codeninja\\\\Anaconda3\\\\envs\\\\tt_fresh\\\\lib\\\\site-packages\\\\Pythonwin',\n",
       " 'C:\\\\Users\\\\codeninja\\\\Anaconda3\\\\envs\\\\tt_fresh\\\\lib\\\\site-packages\\\\IPython\\\\extensions',\n",
       " 'C:\\\\Users\\\\codeninja\\\\.ipython',\n",
       " 'C:\\\\Users\\\\codeninja\\\\Dev',\n",
       " 'C:\\\\Users\\\\codeninja\\\\Dev\\\\trader\\tensortrade',\n",
       " 'C:\\\\Users\\\\codeninja\\\\Dev',\n",
       " 'C:\\\\Users\\\\codeninja\\\\Dev\\\\trader\\tensortrade',\n",
       " 'C:\\\\Users\\\\codeninja\\\\Dev',\n",
       " 'C:\\\\Users\\\\codeninja\\\\Dev\\\\trader\\\\tensortrade',\n",
       " 'C:\\\\Users\\\\codeninja\\\\Dev',\n",
       " 'C:\\\\Users\\\\codeninja\\\\Dev\\\\trader\\\\tensortrade']"
      ]
     },
     "execution_count": 27,
     "metadata": {},
     "output_type": "execute_result"
    }
   ],
   "source": [
    "import os\n",
    "import sys\n",
    "import warnings\n",
    "import numpy\n",
    "import ccxt\n",
    "import pandas as pd\n",
    "import numpy as np\n",
    "from time import time\n",
    "\n",
    "import cProfile as cp\n",
    "\n",
    "\n",
    "config = './neat.config'\n",
    "\n",
    "def warn(*args, **kwargs):\n",
    "    pass\n",
    "\n",
    "warnings.warn = warn\n",
    "warnings.simplefilter(action='ignore', category=FutureWarning)\n",
    "numpy.seterr(divide = 'ignore') \n",
    "\n",
    "sys.path.append(os.path.dirname(os.path.abspath('')))\n",
    "sys.path.append(os.path.abspath('')+\"\\\\tensortrade\")\n",
    "sys.path"
   ]
  },
  {
   "cell_type": "markdown",
   "metadata": {},
   "source": [
    "**Import dataframe**"
   ]
  },
  {
   "cell_type": "code",
   "execution_count": 28,
   "metadata": {},
   "outputs": [],
   "source": [
    "# number of days we want to pull from the dataframe \n",
    "days_of_data = 1\n",
    "\n",
    "# number of data frames (our DF is in 1h timesteps)\n",
    "frames = days_of_data * 24\n",
    "train_test_percentage = 0.2\n",
    "\n",
    "x_train = int(frames * (1 - train_test_percentage))\n",
    "x_test = int(frames - x_train)\n",
    "\n"
   ]
  },
  {
   "cell_type": "code",
   "execution_count": 29,
   "metadata": {},
   "outputs": [
    {
     "name": "stdout",
     "output_type": "stream",
     "text": [
      "Friend Shape (651, 5)\n",
      "train shape (18, 5)\n",
      "test shape (5, 5)\n"
     ]
    },
    {
     "data": {
      "text/html": [
       "<div>\n",
       "<style scoped>\n",
       "    .dataframe tbody tr th:only-of-type {\n",
       "        vertical-align: middle;\n",
       "    }\n",
       "\n",
       "    .dataframe tbody tr th {\n",
       "        vertical-align: top;\n",
       "    }\n",
       "\n",
       "    .dataframe thead th {\n",
       "        text-align: right;\n",
       "    }\n",
       "</style>\n",
       "<table border=\"1\" class=\"dataframe\">\n",
       "  <thead>\n",
       "    <tr style=\"text-align: right;\">\n",
       "      <th></th>\n",
       "      <th>open</th>\n",
       "      <th>high</th>\n",
       "      <th>low</th>\n",
       "      <th>close</th>\n",
       "      <th>volume</th>\n",
       "    </tr>\n",
       "    <tr>\n",
       "      <th>symbol</th>\n",
       "      <th></th>\n",
       "      <th></th>\n",
       "      <th></th>\n",
       "      <th></th>\n",
       "      <th></th>\n",
       "    </tr>\n",
       "  </thead>\n",
       "  <tbody>\n",
       "    <tr>\n",
       "      <th>2019-09-30 17:00:00</th>\n",
       "      <td>8222.58</td>\n",
       "      <td>8234.63</td>\n",
       "      <td>8201.00</td>\n",
       "      <td>8218.58</td>\n",
       "      <td>268.726159</td>\n",
       "    </tr>\n",
       "    <tr>\n",
       "      <th>2019-09-30 18:00:00</th>\n",
       "      <td>8219.33</td>\n",
       "      <td>8295.00</td>\n",
       "      <td>8217.93</td>\n",
       "      <td>8289.34</td>\n",
       "      <td>954.147243</td>\n",
       "    </tr>\n",
       "    <tr>\n",
       "      <th>2019-09-30 19:00:00</th>\n",
       "      <td>8289.97</td>\n",
       "      <td>8310.08</td>\n",
       "      <td>8188.00</td>\n",
       "      <td>8199.66</td>\n",
       "      <td>1870.174803</td>\n",
       "    </tr>\n",
       "    <tr>\n",
       "      <th>2019-09-30 20:00:00</th>\n",
       "      <td>8199.21</td>\n",
       "      <td>8295.00</td>\n",
       "      <td>8173.05</td>\n",
       "      <td>8269.83</td>\n",
       "      <td>1385.021420</td>\n",
       "    </tr>\n",
       "    <tr>\n",
       "      <th>2019-09-30 21:00:00</th>\n",
       "      <td>8269.83</td>\n",
       "      <td>8438.05</td>\n",
       "      <td>8265.14</td>\n",
       "      <td>8412.87</td>\n",
       "      <td>3944.916720</td>\n",
       "    </tr>\n",
       "  </tbody>\n",
       "</table>\n",
       "</div>"
      ],
      "text/plain": [
       "                        open     high      low    close       volume\n",
       "symbol                                                              \n",
       "2019-09-30 17:00:00  8222.58  8234.63  8201.00  8218.58   268.726159\n",
       "2019-09-30 18:00:00  8219.33  8295.00  8217.93  8289.34   954.147243\n",
       "2019-09-30 19:00:00  8289.97  8310.08  8188.00  8199.66  1870.174803\n",
       "2019-09-30 20:00:00  8199.21  8295.00  8173.05  8269.83  1385.021420\n",
       "2019-09-30 21:00:00  8269.83  8438.05  8265.14  8412.87  3944.916720"
      ]
     },
     "execution_count": 29,
     "metadata": {},
     "output_type": "execute_result"
    }
   ],
   "source": [
    "data_file ='./data/processed/binance/btc_usdt_1h.csv' \n",
    "df = pd.read_csv(data_file, index_col=[0])\n",
    "\n",
    "df_train = df[-frames:(-x_test - 1)]\n",
    "df_test = df[-x_test:]\n",
    "print(\"Friend Shape\", df.shape)\n",
    "print('train shape', df_train.shape)\n",
    "print('test shape', df_test.shape)\n",
    "df.head()\n"
   ]
  },
  {
   "cell_type": "code",
   "execution_count": 21,
   "metadata": {},
   "outputs": [],
   "source": [
    "from neat_trading_strategy import NeatTradingStrategy as TradingStrategy\n"
   ]
  },
  {
   "cell_type": "code",
   "execution_count": 22,
   "metadata": {},
   "outputs": [],
   "source": [
    "from tensortrade.rewards import SimpleProfitStrategy as ProfitStrategy\n",
    "from tensortrade.actions import DiscreteActionStrategy as ActionStrategy\n",
    "from tensortrade.exchanges.simulated import SimulatedExchange as Exchange\n",
    "from tensortrade.features.scalers import MinMaxNormalizer\n",
    "from tensortrade.features import FeaturePipeline\n",
    "\n",
    "normalize = MinMaxNormalizer(columns=['open','close','high','low','volume'], inplace=True)\n",
    "\n",
    "feature_pipeline = FeaturePipeline(steps=[normalize])\n",
    "\n",
    "reward_strategy = ProfitStrategy()\n",
    "action_strategy = ActionStrategy(n_actions=20, instrument_symbol='BTC/USDT')\n",
    "\n",
    "exchange = Exchange(data_frame=df_test,\n",
    "                    should_pretransform_obs = True,\n",
    "                    base_instrument='USDT', \n",
    "                    timeframe='1h',\n",
    "                    commission_percent=0.5,\n",
    "                    window_size=1,\n",
    "                    max_allowed_slippage_percent=3.0,\n",
    "                    min_order_amount=1E-4,\n",
    "                    min_trade_amount=1E-4\n",
    "                   )"
   ]
  },
  {
   "cell_type": "code",
   "execution_count": 23,
   "metadata": {},
   "outputs": [],
   "source": [
    "from tensortrade.environments import TradingEnvironment as Environment\n",
    "\n",
    "environment = Environment(exchange=exchange,\n",
    "                                 action_strategy=action_strategy,\n",
    "                                 reward_strategy=reward_strategy,\n",
    "                                 feature_pipeline=feature_pipeline)\n",
    "\n",
    "\n",
    "strategy = TradingStrategy(environment=environment, neat_config=config)\n",
    "\n"
   ]
  },
  {
   "cell_type": "code",
   "execution_count": 24,
   "metadata": {
    "scrolled": true
   },
   "outputs": [
    {
     "name": "stdout",
     "output_type": "stream",
     "text": [
      "\n",
      " ****** Running generation 0 ****** \n",
      "\n",
      "*"
     ]
    },
    {
     "ename": "KeyError",
     "evalue": "\"['symbol'] not found in axis\"",
     "output_type": "error",
     "traceback": [
      "\u001b[1;31m---------------------------------------------------------------------------\u001b[0m",
      "\u001b[1;31mKeyError\u001b[0m                                  Traceback (most recent call last)",
      "\u001b[1;32m<ipython-input-24-4f618d5da072>\u001b[0m in \u001b[0;36m<module>\u001b[1;34m\u001b[0m\n\u001b[1;32m----> 1\u001b[1;33m \u001b[0mcp\u001b[0m\u001b[1;33m.\u001b[0m\u001b[0mrun\u001b[0m\u001b[1;33m(\u001b[0m\u001b[1;34m\"performance, winner, stats = strategy.run(generations=20)\"\u001b[0m\u001b[1;33m,\u001b[0m \u001b[1;34m'evolution_stats'\u001b[0m\u001b[1;33m)\u001b[0m\u001b[1;33m\u001b[0m\u001b[1;33m\u001b[0m\u001b[0m\n\u001b[0m",
      "\u001b[1;32m~\\Anaconda3\\envs\\tt_fresh\\lib\\cProfile.py\u001b[0m in \u001b[0;36mrun\u001b[1;34m(statement, filename, sort)\u001b[0m\n\u001b[0;32m     14\u001b[0m \u001b[1;33m\u001b[0m\u001b[0m\n\u001b[0;32m     15\u001b[0m \u001b[1;32mdef\u001b[0m \u001b[0mrun\u001b[0m\u001b[1;33m(\u001b[0m\u001b[0mstatement\u001b[0m\u001b[1;33m,\u001b[0m \u001b[0mfilename\u001b[0m\u001b[1;33m=\u001b[0m\u001b[1;32mNone\u001b[0m\u001b[1;33m,\u001b[0m \u001b[0msort\u001b[0m\u001b[1;33m=\u001b[0m\u001b[1;33m-\u001b[0m\u001b[1;36m1\u001b[0m\u001b[1;33m)\u001b[0m\u001b[1;33m:\u001b[0m\u001b[1;33m\u001b[0m\u001b[1;33m\u001b[0m\u001b[0m\n\u001b[1;32m---> 16\u001b[1;33m     \u001b[1;32mreturn\u001b[0m \u001b[0m_pyprofile\u001b[0m\u001b[1;33m.\u001b[0m\u001b[0m_Utils\u001b[0m\u001b[1;33m(\u001b[0m\u001b[0mProfile\u001b[0m\u001b[1;33m)\u001b[0m\u001b[1;33m.\u001b[0m\u001b[0mrun\u001b[0m\u001b[1;33m(\u001b[0m\u001b[0mstatement\u001b[0m\u001b[1;33m,\u001b[0m \u001b[0mfilename\u001b[0m\u001b[1;33m,\u001b[0m \u001b[0msort\u001b[0m\u001b[1;33m)\u001b[0m\u001b[1;33m\u001b[0m\u001b[1;33m\u001b[0m\u001b[0m\n\u001b[0m\u001b[0;32m     17\u001b[0m \u001b[1;33m\u001b[0m\u001b[0m\n\u001b[0;32m     18\u001b[0m \u001b[1;32mdef\u001b[0m \u001b[0mrunctx\u001b[0m\u001b[1;33m(\u001b[0m\u001b[0mstatement\u001b[0m\u001b[1;33m,\u001b[0m \u001b[0mglobals\u001b[0m\u001b[1;33m,\u001b[0m \u001b[0mlocals\u001b[0m\u001b[1;33m,\u001b[0m \u001b[0mfilename\u001b[0m\u001b[1;33m=\u001b[0m\u001b[1;32mNone\u001b[0m\u001b[1;33m,\u001b[0m \u001b[0msort\u001b[0m\u001b[1;33m=\u001b[0m\u001b[1;33m-\u001b[0m\u001b[1;36m1\u001b[0m\u001b[1;33m)\u001b[0m\u001b[1;33m:\u001b[0m\u001b[1;33m\u001b[0m\u001b[1;33m\u001b[0m\u001b[0m\n",
      "\u001b[1;32m~\\Anaconda3\\envs\\tt_fresh\\lib\\profile.py\u001b[0m in \u001b[0;36mrun\u001b[1;34m(self, statement, filename, sort)\u001b[0m\n\u001b[0;32m     51\u001b[0m         \u001b[0mprof\u001b[0m \u001b[1;33m=\u001b[0m \u001b[0mself\u001b[0m\u001b[1;33m.\u001b[0m\u001b[0mprofiler\u001b[0m\u001b[1;33m(\u001b[0m\u001b[1;33m)\u001b[0m\u001b[1;33m\u001b[0m\u001b[1;33m\u001b[0m\u001b[0m\n\u001b[0;32m     52\u001b[0m         \u001b[1;32mtry\u001b[0m\u001b[1;33m:\u001b[0m\u001b[1;33m\u001b[0m\u001b[1;33m\u001b[0m\u001b[0m\n\u001b[1;32m---> 53\u001b[1;33m             \u001b[0mprof\u001b[0m\u001b[1;33m.\u001b[0m\u001b[0mrun\u001b[0m\u001b[1;33m(\u001b[0m\u001b[0mstatement\u001b[0m\u001b[1;33m)\u001b[0m\u001b[1;33m\u001b[0m\u001b[1;33m\u001b[0m\u001b[0m\n\u001b[0m\u001b[0;32m     54\u001b[0m         \u001b[1;32mexcept\u001b[0m \u001b[0mSystemExit\u001b[0m\u001b[1;33m:\u001b[0m\u001b[1;33m\u001b[0m\u001b[1;33m\u001b[0m\u001b[0m\n\u001b[0;32m     55\u001b[0m             \u001b[1;32mpass\u001b[0m\u001b[1;33m\u001b[0m\u001b[1;33m\u001b[0m\u001b[0m\n",
      "\u001b[1;32m~\\Anaconda3\\envs\\tt_fresh\\lib\\cProfile.py\u001b[0m in \u001b[0;36mrun\u001b[1;34m(self, cmd)\u001b[0m\n\u001b[0;32m     93\u001b[0m         \u001b[1;32mimport\u001b[0m \u001b[0m__main__\u001b[0m\u001b[1;33m\u001b[0m\u001b[1;33m\u001b[0m\u001b[0m\n\u001b[0;32m     94\u001b[0m         \u001b[0mdict\u001b[0m \u001b[1;33m=\u001b[0m \u001b[0m__main__\u001b[0m\u001b[1;33m.\u001b[0m\u001b[0m__dict__\u001b[0m\u001b[1;33m\u001b[0m\u001b[1;33m\u001b[0m\u001b[0m\n\u001b[1;32m---> 95\u001b[1;33m         \u001b[1;32mreturn\u001b[0m \u001b[0mself\u001b[0m\u001b[1;33m.\u001b[0m\u001b[0mrunctx\u001b[0m\u001b[1;33m(\u001b[0m\u001b[0mcmd\u001b[0m\u001b[1;33m,\u001b[0m \u001b[0mdict\u001b[0m\u001b[1;33m,\u001b[0m \u001b[0mdict\u001b[0m\u001b[1;33m)\u001b[0m\u001b[1;33m\u001b[0m\u001b[1;33m\u001b[0m\u001b[0m\n\u001b[0m\u001b[0;32m     96\u001b[0m \u001b[1;33m\u001b[0m\u001b[0m\n\u001b[0;32m     97\u001b[0m     \u001b[1;32mdef\u001b[0m \u001b[0mrunctx\u001b[0m\u001b[1;33m(\u001b[0m\u001b[0mself\u001b[0m\u001b[1;33m,\u001b[0m \u001b[0mcmd\u001b[0m\u001b[1;33m,\u001b[0m \u001b[0mglobals\u001b[0m\u001b[1;33m,\u001b[0m \u001b[0mlocals\u001b[0m\u001b[1;33m)\u001b[0m\u001b[1;33m:\u001b[0m\u001b[1;33m\u001b[0m\u001b[1;33m\u001b[0m\u001b[0m\n",
      "\u001b[1;32m~\\Anaconda3\\envs\\tt_fresh\\lib\\cProfile.py\u001b[0m in \u001b[0;36mrunctx\u001b[1;34m(self, cmd, globals, locals)\u001b[0m\n\u001b[0;32m     98\u001b[0m         \u001b[0mself\u001b[0m\u001b[1;33m.\u001b[0m\u001b[0menable\u001b[0m\u001b[1;33m(\u001b[0m\u001b[1;33m)\u001b[0m\u001b[1;33m\u001b[0m\u001b[1;33m\u001b[0m\u001b[0m\n\u001b[0;32m     99\u001b[0m         \u001b[1;32mtry\u001b[0m\u001b[1;33m:\u001b[0m\u001b[1;33m\u001b[0m\u001b[1;33m\u001b[0m\u001b[0m\n\u001b[1;32m--> 100\u001b[1;33m             \u001b[0mexec\u001b[0m\u001b[1;33m(\u001b[0m\u001b[0mcmd\u001b[0m\u001b[1;33m,\u001b[0m \u001b[0mglobals\u001b[0m\u001b[1;33m,\u001b[0m \u001b[0mlocals\u001b[0m\u001b[1;33m)\u001b[0m\u001b[1;33m\u001b[0m\u001b[1;33m\u001b[0m\u001b[0m\n\u001b[0m\u001b[0;32m    101\u001b[0m         \u001b[1;32mfinally\u001b[0m\u001b[1;33m:\u001b[0m\u001b[1;33m\u001b[0m\u001b[1;33m\u001b[0m\u001b[0m\n\u001b[0;32m    102\u001b[0m             \u001b[0mself\u001b[0m\u001b[1;33m.\u001b[0m\u001b[0mdisable\u001b[0m\u001b[1;33m(\u001b[0m\u001b[1;33m)\u001b[0m\u001b[1;33m\u001b[0m\u001b[1;33m\u001b[0m\u001b[0m\n",
      "\u001b[1;32m<string>\u001b[0m in \u001b[0;36m<module>\u001b[1;34m\u001b[0m\n",
      "\u001b[1;32m~\\Dev\\trader\\tensortrade\\neat_trading_strategy.py\u001b[0m in \u001b[0;36mrun\u001b[1;34m(self, generations, testing, episode_callback)\u001b[0m\n\u001b[0;32m    146\u001b[0m \u001b[1;33m\u001b[0m\u001b[0m\n\u001b[0;32m    147\u001b[0m         \u001b[1;31m# Run for up to 300 generations.\u001b[0m\u001b[1;33m\u001b[0m\u001b[1;33m\u001b[0m\u001b[1;33m\u001b[0m\u001b[0m\n\u001b[1;32m--> 148\u001b[1;33m         \u001b[0mwinner\u001b[0m \u001b[1;33m=\u001b[0m \u001b[0mpop\u001b[0m\u001b[1;33m.\u001b[0m\u001b[0mrun\u001b[0m\u001b[1;33m(\u001b[0m\u001b[0mself\u001b[0m\u001b[1;33m.\u001b[0m\u001b[0m_eval_population\u001b[0m\u001b[1;33m,\u001b[0m \u001b[0mgenerations\u001b[0m\u001b[1;33m)\u001b[0m\u001b[1;33m\u001b[0m\u001b[1;33m\u001b[0m\u001b[0m\n\u001b[0m\u001b[0;32m    149\u001b[0m \u001b[1;33m\u001b[0m\u001b[0m\n\u001b[0;32m    150\u001b[0m         \u001b[1;31m# Display the winning genome.\u001b[0m\u001b[1;33m\u001b[0m\u001b[1;33m\u001b[0m\u001b[1;33m\u001b[0m\u001b[0m\n",
      "\u001b[1;32m~\\Anaconda3\\envs\\tt_fresh\\lib\\site-packages\\neat\\population.py\u001b[0m in \u001b[0;36mrun\u001b[1;34m(self, fitness_function, n)\u001b[0m\n\u001b[0;32m     87\u001b[0m \u001b[1;33m\u001b[0m\u001b[0m\n\u001b[0;32m     88\u001b[0m             \u001b[1;31m# Evaluate all genomes using the user-provided function.\u001b[0m\u001b[1;33m\u001b[0m\u001b[1;33m\u001b[0m\u001b[1;33m\u001b[0m\u001b[0m\n\u001b[1;32m---> 89\u001b[1;33m             \u001b[0mfitness_function\u001b[0m\u001b[1;33m(\u001b[0m\u001b[0mlist\u001b[0m\u001b[1;33m(\u001b[0m\u001b[0miteritems\u001b[0m\u001b[1;33m(\u001b[0m\u001b[0mself\u001b[0m\u001b[1;33m.\u001b[0m\u001b[0mpopulation\u001b[0m\u001b[1;33m)\u001b[0m\u001b[1;33m)\u001b[0m\u001b[1;33m,\u001b[0m \u001b[0mself\u001b[0m\u001b[1;33m.\u001b[0m\u001b[0mconfig\u001b[0m\u001b[1;33m)\u001b[0m\u001b[1;33m\u001b[0m\u001b[1;33m\u001b[0m\u001b[0m\n\u001b[0m\u001b[0;32m     90\u001b[0m \u001b[1;33m\u001b[0m\u001b[0m\n\u001b[0;32m     91\u001b[0m             \u001b[1;31m# Gather and report statistics.\u001b[0m\u001b[1;33m\u001b[0m\u001b[1;33m\u001b[0m\u001b[1;33m\u001b[0m\u001b[0m\n",
      "\u001b[1;32m~\\Dev\\trader\\tensortrade\\neat_trading_strategy.py\u001b[0m in \u001b[0;36m_eval_population\u001b[1;34m(self, genomes, config)\u001b[0m\n\u001b[0;32m     83\u001b[0m         \u001b[1;32mfor\u001b[0m \u001b[0mgenome_id\u001b[0m\u001b[1;33m,\u001b[0m \u001b[0mgenome\u001b[0m \u001b[1;32min\u001b[0m \u001b[0mgenomes\u001b[0m\u001b[1;33m:\u001b[0m\u001b[1;33m\u001b[0m\u001b[1;33m\u001b[0m\u001b[0m\n\u001b[0;32m     84\u001b[0m             \u001b[0mprint\u001b[0m\u001b[1;33m(\u001b[0m\u001b[1;34m\"*\"\u001b[0m\u001b[1;33m,\u001b[0m \u001b[0mend\u001b[0m \u001b[1;33m=\u001b[0m \u001b[1;34m''\u001b[0m\u001b[1;33m)\u001b[0m\u001b[1;33m\u001b[0m\u001b[1;33m\u001b[0m\u001b[0m\n\u001b[1;32m---> 85\u001b[1;33m             \u001b[0mself\u001b[0m\u001b[1;33m.\u001b[0m\u001b[0meval_genome\u001b[0m\u001b[1;33m(\u001b[0m\u001b[0mgenome\u001b[0m\u001b[1;33m)\u001b[0m\u001b[1;33m\u001b[0m\u001b[1;33m\u001b[0m\u001b[0m\n\u001b[0m\u001b[0;32m     86\u001b[0m         \u001b[0mprint\u001b[0m\u001b[1;33m(\u001b[0m\u001b[1;34m' '\u001b[0m\u001b[1;33m)\u001b[0m\u001b[1;33m\u001b[0m\u001b[1;33m\u001b[0m\u001b[0m\n\u001b[0;32m     87\u001b[0m         \u001b[1;31m# clear_output()\u001b[0m\u001b[1;33m\u001b[0m\u001b[1;33m\u001b[0m\u001b[1;33m\u001b[0m\u001b[0m\n",
      "\u001b[1;32m~\\Dev\\trader\\tensortrade\\neat_trading_strategy.py\u001b[0m in \u001b[0;36meval_genome\u001b[1;34m(self, genome)\u001b[0m\n\u001b[0;32m    108\u001b[0m \u001b[1;33m\u001b[0m\u001b[0m\n\u001b[0;32m    109\u001b[0m             \u001b[1;31m# transform as needed\u001b[0m\u001b[1;33m\u001b[0m\u001b[1;33m\u001b[0m\u001b[1;33m\u001b[0m\u001b[0m\n\u001b[1;32m--> 110\u001b[1;33m             \u001b[0mcurrent_dataframe_observation\u001b[0m \u001b[1;33m=\u001b[0m \u001b[0mcurrent_dataframe_observation\u001b[0m\u001b[1;33m.\u001b[0m\u001b[0mvalues\u001b[0m\u001b[1;33m.\u001b[0m\u001b[0mflatten\u001b[0m\u001b[1;33m(\u001b[0m\u001b[1;33m)\u001b[0m\u001b[1;33m\u001b[0m\u001b[1;33m\u001b[0m\u001b[0m\n\u001b[0m\u001b[0;32m    111\u001b[0m \u001b[1;33m\u001b[0m\u001b[0m\n\u001b[0;32m    112\u001b[0m             \u001b[1;31m# activate() the genome and calculate the action output\u001b[0m\u001b[1;33m\u001b[0m\u001b[1;33m\u001b[0m\u001b[1;33m\u001b[0m\u001b[0m\n",
      "\u001b[1;32m~\\AppData\\Roaming\\Python\\Python37\\site-packages\\pandas\\core\\frame.py\u001b[0m in \u001b[0;36mdrop\u001b[1;34m(self, labels, axis, index, columns, level, inplace, errors)\u001b[0m\n\u001b[0;32m   4095\u001b[0m             \u001b[0mlevel\u001b[0m\u001b[1;33m=\u001b[0m\u001b[0mlevel\u001b[0m\u001b[1;33m,\u001b[0m\u001b[1;33m\u001b[0m\u001b[1;33m\u001b[0m\u001b[0m\n\u001b[0;32m   4096\u001b[0m             \u001b[0minplace\u001b[0m\u001b[1;33m=\u001b[0m\u001b[0minplace\u001b[0m\u001b[1;33m,\u001b[0m\u001b[1;33m\u001b[0m\u001b[1;33m\u001b[0m\u001b[0m\n\u001b[1;32m-> 4097\u001b[1;33m             \u001b[0merrors\u001b[0m\u001b[1;33m=\u001b[0m\u001b[0merrors\u001b[0m\u001b[1;33m,\u001b[0m\u001b[1;33m\u001b[0m\u001b[1;33m\u001b[0m\u001b[0m\n\u001b[0m\u001b[0;32m   4098\u001b[0m         )\n\u001b[0;32m   4099\u001b[0m \u001b[1;33m\u001b[0m\u001b[0m\n",
      "\u001b[1;32m~\\AppData\\Roaming\\Python\\Python37\\site-packages\\pandas\\core\\generic.py\u001b[0m in \u001b[0;36mdrop\u001b[1;34m(self, labels, axis, index, columns, level, inplace, errors)\u001b[0m\n\u001b[0;32m   3913\u001b[0m         \u001b[1;32mfor\u001b[0m \u001b[0maxis\u001b[0m\u001b[1;33m,\u001b[0m \u001b[0mlabels\u001b[0m \u001b[1;32min\u001b[0m \u001b[0maxes\u001b[0m\u001b[1;33m.\u001b[0m\u001b[0mitems\u001b[0m\u001b[1;33m(\u001b[0m\u001b[1;33m)\u001b[0m\u001b[1;33m:\u001b[0m\u001b[1;33m\u001b[0m\u001b[1;33m\u001b[0m\u001b[0m\n\u001b[0;32m   3914\u001b[0m             \u001b[1;32mif\u001b[0m \u001b[0mlabels\u001b[0m \u001b[1;32mis\u001b[0m \u001b[1;32mnot\u001b[0m \u001b[1;32mNone\u001b[0m\u001b[1;33m:\u001b[0m\u001b[1;33m\u001b[0m\u001b[1;33m\u001b[0m\u001b[0m\n\u001b[1;32m-> 3915\u001b[1;33m                 \u001b[0mobj\u001b[0m \u001b[1;33m=\u001b[0m \u001b[0mobj\u001b[0m\u001b[1;33m.\u001b[0m\u001b[0m_drop_axis\u001b[0m\u001b[1;33m(\u001b[0m\u001b[0mlabels\u001b[0m\u001b[1;33m,\u001b[0m \u001b[0maxis\u001b[0m\u001b[1;33m,\u001b[0m \u001b[0mlevel\u001b[0m\u001b[1;33m=\u001b[0m\u001b[0mlevel\u001b[0m\u001b[1;33m,\u001b[0m \u001b[0merrors\u001b[0m\u001b[1;33m=\u001b[0m\u001b[0merrors\u001b[0m\u001b[1;33m)\u001b[0m\u001b[1;33m\u001b[0m\u001b[1;33m\u001b[0m\u001b[0m\n\u001b[0m\u001b[0;32m   3916\u001b[0m \u001b[1;33m\u001b[0m\u001b[0m\n\u001b[0;32m   3917\u001b[0m         \u001b[1;32mif\u001b[0m \u001b[0minplace\u001b[0m\u001b[1;33m:\u001b[0m\u001b[1;33m\u001b[0m\u001b[1;33m\u001b[0m\u001b[0m\n",
      "\u001b[1;32m~\\AppData\\Roaming\\Python\\Python37\\site-packages\\pandas\\core\\generic.py\u001b[0m in \u001b[0;36m_drop_axis\u001b[1;34m(self, labels, axis, level, errors)\u001b[0m\n\u001b[0;32m   3945\u001b[0m                 \u001b[0mnew_axis\u001b[0m \u001b[1;33m=\u001b[0m \u001b[0maxis\u001b[0m\u001b[1;33m.\u001b[0m\u001b[0mdrop\u001b[0m\u001b[1;33m(\u001b[0m\u001b[0mlabels\u001b[0m\u001b[1;33m,\u001b[0m \u001b[0mlevel\u001b[0m\u001b[1;33m=\u001b[0m\u001b[0mlevel\u001b[0m\u001b[1;33m,\u001b[0m \u001b[0merrors\u001b[0m\u001b[1;33m=\u001b[0m\u001b[0merrors\u001b[0m\u001b[1;33m)\u001b[0m\u001b[1;33m\u001b[0m\u001b[1;33m\u001b[0m\u001b[0m\n\u001b[0;32m   3946\u001b[0m             \u001b[1;32melse\u001b[0m\u001b[1;33m:\u001b[0m\u001b[1;33m\u001b[0m\u001b[1;33m\u001b[0m\u001b[0m\n\u001b[1;32m-> 3947\u001b[1;33m                 \u001b[0mnew_axis\u001b[0m \u001b[1;33m=\u001b[0m \u001b[0maxis\u001b[0m\u001b[1;33m.\u001b[0m\u001b[0mdrop\u001b[0m\u001b[1;33m(\u001b[0m\u001b[0mlabels\u001b[0m\u001b[1;33m,\u001b[0m \u001b[0merrors\u001b[0m\u001b[1;33m=\u001b[0m\u001b[0merrors\u001b[0m\u001b[1;33m)\u001b[0m\u001b[1;33m\u001b[0m\u001b[1;33m\u001b[0m\u001b[0m\n\u001b[0m\u001b[0;32m   3948\u001b[0m             \u001b[0mresult\u001b[0m \u001b[1;33m=\u001b[0m \u001b[0mself\u001b[0m\u001b[1;33m.\u001b[0m\u001b[0mreindex\u001b[0m\u001b[1;33m(\u001b[0m\u001b[1;33m**\u001b[0m\u001b[1;33m{\u001b[0m\u001b[0maxis_name\u001b[0m\u001b[1;33m:\u001b[0m \u001b[0mnew_axis\u001b[0m\u001b[1;33m}\u001b[0m\u001b[1;33m)\u001b[0m\u001b[1;33m\u001b[0m\u001b[1;33m\u001b[0m\u001b[0m\n\u001b[0;32m   3949\u001b[0m \u001b[1;33m\u001b[0m\u001b[0m\n",
      "\u001b[1;32m~\\AppData\\Roaming\\Python\\Python37\\site-packages\\pandas\\core\\indexes\\base.py\u001b[0m in \u001b[0;36mdrop\u001b[1;34m(self, labels, errors)\u001b[0m\n\u001b[0;32m   5331\u001b[0m         \u001b[1;32mif\u001b[0m \u001b[0mmask\u001b[0m\u001b[1;33m.\u001b[0m\u001b[0many\u001b[0m\u001b[1;33m(\u001b[0m\u001b[1;33m)\u001b[0m\u001b[1;33m:\u001b[0m\u001b[1;33m\u001b[0m\u001b[1;33m\u001b[0m\u001b[0m\n\u001b[0;32m   5332\u001b[0m             \u001b[1;32mif\u001b[0m \u001b[0merrors\u001b[0m \u001b[1;33m!=\u001b[0m \u001b[1;34m\"ignore\"\u001b[0m\u001b[1;33m:\u001b[0m\u001b[1;33m\u001b[0m\u001b[1;33m\u001b[0m\u001b[0m\n\u001b[1;32m-> 5333\u001b[1;33m                 \u001b[1;32mraise\u001b[0m \u001b[0mKeyError\u001b[0m\u001b[1;33m(\u001b[0m\u001b[1;34m\"{} not found in axis\"\u001b[0m\u001b[1;33m.\u001b[0m\u001b[0mformat\u001b[0m\u001b[1;33m(\u001b[0m\u001b[0mlabels\u001b[0m\u001b[1;33m[\u001b[0m\u001b[0mmask\u001b[0m\u001b[1;33m]\u001b[0m\u001b[1;33m)\u001b[0m\u001b[1;33m)\u001b[0m\u001b[1;33m\u001b[0m\u001b[1;33m\u001b[0m\u001b[0m\n\u001b[0m\u001b[0;32m   5334\u001b[0m             \u001b[0mindexer\u001b[0m \u001b[1;33m=\u001b[0m \u001b[0mindexer\u001b[0m\u001b[1;33m[\u001b[0m\u001b[1;33m~\u001b[0m\u001b[0mmask\u001b[0m\u001b[1;33m]\u001b[0m\u001b[1;33m\u001b[0m\u001b[1;33m\u001b[0m\u001b[0m\n\u001b[0;32m   5335\u001b[0m         \u001b[1;32mreturn\u001b[0m \u001b[0mself\u001b[0m\u001b[1;33m.\u001b[0m\u001b[0mdelete\u001b[0m\u001b[1;33m(\u001b[0m\u001b[0mindexer\u001b[0m\u001b[1;33m)\u001b[0m\u001b[1;33m\u001b[0m\u001b[1;33m\u001b[0m\u001b[0m\n",
      "\u001b[1;31mKeyError\u001b[0m: \"['symbol'] not found in axis\""
     ]
    }
   ],
   "source": [
    "cp.run(\"performance, winner, stats = strategy.run(generations=20)\", 'evolution_stats')"
   ]
  },
  {
   "cell_type": "code",
   "execution_count": 10,
   "metadata": {
    "scrolled": false
   },
   "outputs": [
    {
     "name": "stdout",
     "output_type": "stream",
     "text": [
      "Thu Oct 24 13:49:48 2019    evolution_stats\n",
      "\n",
      "         3277 function calls (3275 primitive calls) in 135.027 seconds\n",
      "\n",
      "   Ordered by: cumulative time\n",
      "   List reduced from 133 to 20 due to restriction <20>\n",
      "\n",
      "   ncalls  tottime  percall  cumtime  percall filename:lineno(function)\n",
      "        1    0.000    0.000  135.027  135.027 {built-in method builtins.exec}\n",
      "        1    0.000    0.000  135.027  135.027 <string>:1(<module>)\n",
      "        1    0.000    0.000  135.027  135.027 neat_trading_strategy.py:136(run)\n",
      "        1    0.000    0.000  135.025  135.025 population.py:59(run)\n",
      "        1    0.000    0.000  135.024  135.024 neat_trading_strategy.py:82(_eval_population)\n",
      "        1    0.000    0.000  135.024  135.024 neat_trading_strategy.py:89(eval_genome)\n",
      "        1    0.000    0.000  135.023  135.023 profilehooks.py:239(new_fn)\n",
      "        1    0.000    0.000  135.023  135.023 profilehooks.py:338(__call__)\n",
      "        1    0.000    0.000  135.023  135.023 cProfile.py:106(runcall)\n",
      "        1  135.023  135.023  135.023  135.023 {method 'enable' of '_lsprof.Profiler' objects}\n",
      "        2    0.000    0.000    0.002    0.001 {built-in method builtins.print}\n",
      "        4    0.000    0.000    0.002    0.000 ansitowin32.py:40(write)\n",
      "        4    0.000    0.000    0.002    0.000 ansitowin32.py:160(write)\n",
      "        4    0.000    0.000    0.002    0.000 ansitowin32.py:177(write_and_convert)\n",
      "        4    0.000    0.000    0.002    0.000 ansitowin32.py:193(write_plain_text)\n",
      "        3    0.000    0.000    0.002    0.001 iostream.py:336(flush)\n",
      "        3    0.000    0.000    0.002    0.001 threading.py:534(wait)\n",
      "        3    0.000    0.000    0.002    0.001 threading.py:264(wait)\n",
      "        1    0.000    0.000    0.001    0.001 population.py:23(__init__)\n",
      "       27    0.001    0.000    0.001    0.000 {method 'acquire' of '_thread.lock' objects}\n",
      "\n",
      "\n"
     ]
    },
    {
     "data": {
      "text/plain": [
       "<pstats.Stats at 0x2549860fa08>"
      ]
     },
     "execution_count": 10,
     "metadata": {},
     "output_type": "execute_result"
    }
   ],
   "source": [
    "import pstats\n",
    "from pstats import SortKey\n",
    "p = pstats.Stats('evolution_stats')\n",
    "p.strip_dirs().sort_stats(\"cumtime\").print_stats(20)"
   ]
  },
  {
   "cell_type": "code",
   "execution_count": 11,
   "metadata": {},
   "outputs": [
    {
     "data": {
      "text/html": [
       "<div>\n",
       "<style scoped>\n",
       "    .dataframe tbody tr th:only-of-type {\n",
       "        vertical-align: middle;\n",
       "    }\n",
       "\n",
       "    .dataframe tbody tr th {\n",
       "        vertical-align: top;\n",
       "    }\n",
       "\n",
       "    .dataframe thead th {\n",
       "        text-align: right;\n",
       "    }\n",
       "</style>\n",
       "<table border=\"1\" class=\"dataframe\">\n",
       "  <thead>\n",
       "    <tr style=\"text-align: right;\">\n",
       "      <th></th>\n",
       "      <th>step</th>\n",
       "      <th>symbol</th>\n",
       "      <th>type</th>\n",
       "      <th>amount</th>\n",
       "      <th>price</th>\n",
       "    </tr>\n",
       "  </thead>\n",
       "  <tbody>\n",
       "  </tbody>\n",
       "</table>\n",
       "</div>"
      ],
      "text/plain": [
       "Empty DataFrame\n",
       "Columns: [step, symbol, type, amount, price]\n",
       "Index: []"
      ]
     },
     "execution_count": 11,
     "metadata": {},
     "output_type": "execute_result"
    }
   ],
   "source": [
    "exchange.trades"
   ]
  },
  {
   "cell_type": "markdown",
   "metadata": {},
   "source": [
    "**Evaluate**"
   ]
  },
  {
   "cell_type": "markdown",
   "metadata": {},
   "source": [
    "**Save Strategy**"
   ]
  },
  {
   "cell_type": "code",
   "execution_count": 12,
   "metadata": {},
   "outputs": [
    {
     "data": {
      "text/plain": [
       "<Figure size 640x480 with 1 Axes>"
      ]
     },
     "metadata": {},
     "output_type": "display_data"
    }
   ],
   "source": [
    "import visualize\n",
    "\n",
    "node_names = {-1:'Open', -2: 'High', -3: \"Low\", -4: \"Close\", -5:\"Volume\", 0:'Action'}\n",
    "visualize.plot_stats(stats, ylog=False, view=True)\n"
   ]
  },
  {
   "cell_type": "code",
   "execution_count": 13,
   "metadata": {},
   "outputs": [
    {
     "data": {
      "image/png": "[encoded data removed]",
      "text/plain": [
       "<Figure size 432x288 with 1 Axes>"
      ]
     },
     "metadata": {
      "needs_background": "light"
     },
     "output_type": "display_data"
    }
   ],
   "source": [
    "visualize.plot_species(stats, view=True)"
   ]
  },
  {
   "cell_type": "code",
   "execution_count": 14,
   "metadata": {},
   "outputs": [
    {
     "data": {
      "image/svg+xml": [
       "<?xml version=\"1.0\" encoding=\"UTF-8\" standalone=\"no\"?>\r\n",
       "<!DOCTYPE svg PUBLIC \"-//W3C//DTD SVG 1.1//EN\"\r\n",
       " \"http://www.w3.org/Graphics/SVG/1.1/DTD/svg11.dtd\">\r\n",
       "<!-- Generated by graphviz version 2.38.0 (20140413.2041)\r\n",
       " -->\r\n",
       "<!-- Title: %3 Pages: 1 -->\r\n",
       "<svg width=\"538pt\" height=\"266pt\"\r\n",
       " viewBox=\"0.00 0.00 538.39 265.52\" xmlns=\"http://www.w3.org/2000/svg\" xmlns:xlink=\"http://www.w3.org/1999/xlink\">\r\n",
       "<g id=\"graph0\" class=\"graph\" transform=\"scale(1 1) rotate(0) translate(4 261.522)\">\r\n",
       "<title>%3</title>\r\n",
       "<polygon fill=\"white\" stroke=\"none\" points=\"-4,4 -4,-261.522 534.392,-261.522 534.392,4 -4,4\"/>\r\n",
       "<!-- Open -->\r\n",
       "<g id=\"node1\" class=\"node\"><title>Open</title>\r\n",
       "<polygon fill=\"lightgray\" stroke=\"black\" points=\"114.5,-257.522 77.5,-257.522 77.5,-239.522 114.5,-239.522 114.5,-257.522\"/>\r\n",
       "<text text-anchor=\"middle\" x=\"96\" y=\"-246.322\" font-family=\"Times New Roman,serif\" font-size=\"9.00\">Open</text>\r\n",
       "</g>\r\n",
       "<!-- Action -->\r\n",
       "<g id=\"node6\" class=\"node\"><title>Action</title>\r\n",
       "<ellipse fill=\"lightblue\" stroke=\"black\" cx=\"169\" cy=\"-28.9914\" rx=\"28.9828\" ry=\"28.9828\"/>\r\n",
       "<text text-anchor=\"middle\" x=\"169\" y=\"-26.7914\" font-family=\"Times New Roman,serif\" font-size=\"9.00\">Action</text>\r\n",
       "</g>\r\n",
       "<!-- Open&#45;&gt;Action -->\r\n",
       "<g id=\"edge31\" class=\"edge\"><title>Open&#45;&gt;Action</title>\r\n",
       "<path fill=\"none\" stroke=\"green\" stroke-width=\"0.205499\" d=\"M78.7802,-239.424C65.4661,-232.114 47.9992,-219.98 40,-203.522 29.6459,-182.219 44.8741,-101.364 50,-93.9828 69.1857,-66.3555 104.213,-49.6011 131.317,-40.207\"/>\r\n",
       "<polygon fill=\"green\" stroke=\"green\" stroke-width=\"0.205499\" points=\"132.483,-43.5079 140.9,-37.0725 130.307,-36.8548 132.483,-43.5079\"/>\r\n",
       "</g>\r\n",
       "<!-- 6 -->\r\n",
       "<g id=\"node7\" class=\"node\"><title>6</title>\r\n",
       "<ellipse fill=\"white\" stroke=\"black\" cx=\"215\" cy=\"-185.137\" rx=\"14.7\" ry=\"14.7\"/>\r\n",
       "<text text-anchor=\"middle\" x=\"215\" y=\"-182.937\" font-family=\"Times New Roman,serif\" font-size=\"9.00\">6</text>\r\n",
       "</g>\r\n",
       "<!-- Open&#45;&gt;6 -->\r\n",
       "<g id=\"edge1\" class=\"edge\"><title>Open&#45;&gt;6</title>\r\n",
       "<path fill=\"none\" stroke=\"red\" stroke-width=\"0.271399\" d=\"M113.476,-239.519C131.775,-231.014 161.238,-216.965 186,-203.522 188.612,-202.104 191.324,-200.567 193.996,-199.014\"/>\r\n",
       "<polygon fill=\"red\" stroke=\"red\" stroke-width=\"0.271399\" points=\"195.917,-201.943 202.716,-193.817 192.334,-195.93 195.917,-201.943\"/>\r\n",
       "</g>\r\n",
       "<!-- 7 -->\r\n",
       "<g id=\"node8\" class=\"node\"><title>7</title>\r\n",
       "<ellipse fill=\"white\" stroke=\"black\" cx=\"281\" cy=\"-185.137\" rx=\"14.7\" ry=\"14.7\"/>\r\n",
       "<text text-anchor=\"middle\" x=\"281\" y=\"-182.937\" font-family=\"Times New Roman,serif\" font-size=\"9.00\">7</text>\r\n",
       "</g>\r\n",
       "<!-- Open&#45;&gt;7 -->\r\n",
       "<g id=\"edge2\" class=\"edge\"><title>Open&#45;&gt;7</title>\r\n",
       "<path fill=\"none\" stroke=\"red\" stroke-width=\"0.286249\" d=\"M114.628,-244.675C145.429,-239.485 208.395,-226.811 257,-203.522 258.392,-202.855 259.787,-202.106 261.166,-201.302\"/>\r\n",
       "<polygon fill=\"red\" stroke=\"red\" stroke-width=\"0.286249\" points=\"263.446,-203.988 269.814,-195.52 259.555,-198.169 263.446,-203.988\"/>\r\n",
       "</g>\r\n",
       "<!-- 8 -->\r\n",
       "<g id=\"node9\" class=\"node\"><title>8</title>\r\n",
       "<ellipse fill=\"white\" stroke=\"black\" cx=\"73\" cy=\"-185.137\" rx=\"14.7\" ry=\"14.7\"/>\r\n",
       "<text text-anchor=\"middle\" x=\"73\" y=\"-182.937\" font-family=\"Times New Roman,serif\" font-size=\"9.00\">8</text>\r\n",
       "</g>\r\n",
       "<!-- Open&#45;&gt;8 -->\r\n",
       "<g id=\"edge3\" class=\"edge\"><title>Open&#45;&gt;8</title>\r\n",
       "<path fill=\"none\" stroke=\"green\" stroke-width=\"0.135534\" d=\"M92.9932,-239.497C90.1141,-231.813 85.6306,-219.847 81.6383,-209.192\"/>\r\n",
       "<polygon fill=\"green\" stroke=\"green\" stroke-width=\"0.135534\" points=\"84.8159,-207.697 78.0297,-199.561 78.2609,-210.153 84.8159,-207.697\"/>\r\n",
       "</g>\r\n",
       "<!-- 9 -->\r\n",
       "<g id=\"node10\" class=\"node\"><title>9</title>\r\n",
       "<ellipse fill=\"white\" stroke=\"black\" cx=\"134\" cy=\"-112.368\" rx=\"14.7\" ry=\"14.7\"/>\r\n",
       "<text text-anchor=\"middle\" x=\"134\" y=\"-110.168\" font-family=\"Times New Roman,serif\" font-size=\"9.00\">9</text>\r\n",
       "</g>\r\n",
       "<!-- Open&#45;&gt;9 -->\r\n",
       "<g id=\"edge4\" class=\"edge\"><title>Open&#45;&gt;9</title>\r\n",
       "<path fill=\"none\" stroke=\"green\" stroke-width=\"0.402788\" d=\"M82.3786,-239.354C71.0613,-231.698 55.7594,-219.109 49,-203.522 42.4983,-188.529 41.0936,-181.054 49,-166.752 61.9822,-143.268 90.1001,-128.721 110.448,-120.856\"/>\r\n",
       "<polygon fill=\"green\" stroke=\"green\" stroke-width=\"0.402788\" points=\"111.758,-124.105 119.986,-117.431 109.392,-117.517 111.758,-124.105\"/>\r\n",
       "</g>\r\n",
       "<!-- 10 -->\r\n",
       "<g id=\"node11\" class=\"node\"><title>10</title>\r\n",
       "<ellipse fill=\"white\" stroke=\"black\" cx=\"380\" cy=\"-112.368\" rx=\"18.2703\" ry=\"18.2703\"/>\r\n",
       "<text text-anchor=\"middle\" x=\"380\" y=\"-110.168\" font-family=\"Times New Roman,serif\" font-size=\"9.00\">10</text>\r\n",
       "</g>\r\n",
       "<!-- Open&#45;&gt;10 -->\r\n",
       "<g id=\"edge5\" class=\"edge\"><title>Open&#45;&gt;10</title>\r\n",
       "<path fill=\"none\" stroke=\"red\" stroke-width=\"0.149248\" d=\"M103.497,-239.082C118.494,-222.71 153.943,-186.516 191,-166.752 244.074,-138.446 313.753,-123.801 351.947,-117.431\"/>\r\n",
       "<polygon fill=\"red\" stroke=\"red\" stroke-width=\"0.149248\" points=\"352.522,-120.884 361.844,-115.849 351.417,-113.971 352.522,-120.884\"/>\r\n",
       "</g>\r\n",
       "<!-- High -->\r\n",
       "<g id=\"node2\" class=\"node\"><title>High</title>\r\n",
       "<polygon fill=\"lightgray\" stroke=\"black\" points=\"34,-257.522 0,-257.522 0,-239.522 34,-239.522 34,-257.522\"/>\r\n",
       "<text text-anchor=\"middle\" x=\"17\" y=\"-246.322\" font-family=\"Times New Roman,serif\" font-size=\"9.00\">High</text>\r\n",
       "</g>\r\n",
       "<!-- High&#45;&gt;Action -->\r\n",
       "<g id=\"edge32\" class=\"edge\"><title>High&#45;&gt;Action</title>\r\n",
       "<path fill=\"none\" stroke=\"red\" stroke-width=\"0.165376\" d=\"M15.4716,-239.406C11.2784,-214.531 2.16006,-138.353 38,-93.9828 61.5061,-64.8819 101.533,-48.0539 131.17,-39.0272\"/>\r\n",
       "<polygon fill=\"red\" stroke=\"red\" stroke-width=\"0.165376\" points=\"132.143,-42.3893 140.784,-36.2586 130.206,-35.6627 132.143,-42.3893\"/>\r\n",
       "</g>\r\n",
       "<!-- High&#45;&gt;6 -->\r\n",
       "<g id=\"edge6\" class=\"edge\"><title>High&#45;&gt;6</title>\r\n",
       "<path fill=\"none\" stroke=\"green\" stroke-width=\"0.338547\" d=\"M34.2248,-242.182C69.7112,-231.18 151.015,-205.974 191.376,-193.461\"/>\r\n",
       "<polygon fill=\"green\" stroke=\"green\" stroke-width=\"0.338547\" points=\"192.413,-196.804 200.928,-190.5 190.34,-190.118 192.413,-196.804\"/>\r\n",
       "</g>\r\n",
       "<!-- High&#45;&gt;7 -->\r\n",
       "<g id=\"edge7\" class=\"edge\"><title>High&#45;&gt;7</title>\r\n",
       "<path fill=\"none\" stroke=\"red\" stroke-width=\"0.153672\" d=\"M34.0029,-244.852C85.3141,-236.731 236.357,-212.35 257,-203.522 258.419,-202.915 259.835,-202.212 261.23,-201.443\"/>\r\n",
       "<polygon fill=\"red\" stroke=\"red\" stroke-width=\"0.153672\" points=\"263.473,-204.157 269.916,-195.745 259.634,-198.303 263.473,-204.157\"/>\r\n",
       "</g>\r\n",
       "<!-- High&#45;&gt;8 -->\r\n",
       "<g id=\"edge8\" class=\"edge\"><title>High&#45;&gt;8</title>\r\n",
       "<path fill=\"none\" stroke=\"red\" stroke-width=\"0.165619\" d=\"M24.321,-239.497C32.4148,-230.625 45.717,-216.044 56.3722,-204.364\"/>\r\n",
       "<polygon fill=\"red\" stroke=\"red\" stroke-width=\"0.165619\" points=\"59.0756,-206.594 63.2295,-196.847 53.9042,-201.876 59.0756,-206.594\"/>\r\n",
       "</g>\r\n",
       "<!-- High&#45;&gt;9 -->\r\n",
       "<g id=\"edge9\" class=\"edge\"><title>High&#45;&gt;9</title>\r\n",
       "<path fill=\"none\" stroke=\"green\" stroke-width=\"0.131023\" d=\"M17.3192,-239.518C18.3283,-223.911 22.5274,-188.995 40,-166.752 58.0332,-143.796 88.8555,-129.027 110.268,-120.972\"/>\r\n",
       "<polygon fill=\"green\" stroke=\"green\" stroke-width=\"0.131023\" points=\"111.669,-124.189 119.926,-117.55 109.332,-117.591 111.669,-124.189\"/>\r\n",
       "</g>\r\n",
       "<!-- High&#45;&gt;10 -->\r\n",
       "<g id=\"edge10\" class=\"edge\"><title>High&#45;&gt;10</title>\r\n",
       "<path fill=\"none\" stroke=\"red\" stroke-width=\"0.339893\" d=\"M17.6514,-239.342C19.4387,-222.776 25.9526,-185.266 49,-166.752 72.5186,-147.86 275,-124.558 351.18,-116.377\"/>\r\n",
       "<polygon fill=\"red\" stroke=\"red\" stroke-width=\"0.339893\" points=\"351.894,-119.821 361.467,-115.282 351.153,-112.86 351.894,-119.821\"/>\r\n",
       "</g>\r\n",
       "<!-- Low -->\r\n",
       "<g id=\"node3\" class=\"node\"><title>Low</title>\r\n",
       "<polygon fill=\"lightgray\" stroke=\"black\" points=\"358.5,-257.522 325.5,-257.522 325.5,-239.522 358.5,-239.522 358.5,-257.522\"/>\r\n",
       "<text text-anchor=\"middle\" x=\"342\" y=\"-246.322\" font-family=\"Times New Roman,serif\" font-size=\"9.00\">Low</text>\r\n",
       "</g>\r\n",
       "<!-- Low&#45;&gt;Action -->\r\n",
       "<g id=\"edge33\" class=\"edge\"><title>Low&#45;&gt;Action</title>\r\n",
       "<path fill=\"none\" stroke=\"red\" stroke-width=\"0.100503\" d=\"M358.749,-245.105C394.217,-239.609 474.974,-224.965 491,-203.522 500.783,-190.432 496.884,-181.998 491,-166.752 448.445,-56.4887 284.528,-34.8345 208.343,-30.7903\"/>\r\n",
       "<polygon fill=\"red\" stroke=\"red\" stroke-width=\"0.100503\" points=\"208.346,-27.2869 198.197,-30.3291 208.028,-34.2797 208.346,-27.2869\"/>\r\n",
       "</g>\r\n",
       "<!-- Low&#45;&gt;6 -->\r\n",
       "<g id=\"edge11\" class=\"edge\"><title>Low&#45;&gt;6</title>\r\n",
       "<path fill=\"none\" stroke=\"green\" stroke-width=\"0.127123\" stroke-dasharray=\"1,5\" d=\"M325.397,-239.497C302.841,-228.595 262.449,-209.072 237.277,-196.905\"/>\r\n",
       "<polygon fill=\"green\" stroke=\"green\" stroke-width=\"0.127123\" points=\"238.662,-193.687 228.135,-192.486 235.615,-199.989 238.662,-193.687\"/>\r\n",
       "</g>\r\n",
       "<!-- Low&#45;&gt;7 -->\r\n",
       "<g id=\"edge12\" class=\"edge\"><title>Low&#45;&gt;7</title>\r\n",
       "<path fill=\"none\" stroke=\"green\" stroke-width=\"0.222562\" d=\"M334.025,-239.497C325.018,-230.433 310.089,-215.41 298.363,-203.61\"/>\r\n",
       "<polygon fill=\"green\" stroke=\"green\" stroke-width=\"0.222562\" points=\"300.746,-201.042 291.214,-196.416 295.781,-205.976 300.746,-201.042\"/>\r\n",
       "</g>\r\n",
       "<!-- Low&#45;&gt;8 -->\r\n",
       "<g id=\"edge13\" class=\"edge\"><title>Low&#45;&gt;8</title>\r\n",
       "<path fill=\"none\" stroke=\"red\" stroke-width=\"0.191165\" d=\"M325.173,-243.682C279.224,-233.197 151.464,-204.042 97.5275,-191.734\"/>\r\n",
       "<polygon fill=\"red\" stroke=\"red\" stroke-width=\"0.191165\" points=\"98.01,-188.254 87.482,-189.442 96.4526,-195.079 98.01,-188.254\"/>\r\n",
       "</g>\r\n",
       "<!-- Low&#45;&gt;9 -->\r\n",
       "<g id=\"edge14\" class=\"edge\"><title>Low&#45;&gt;9</title>\r\n",
       "<path fill=\"none\" stroke=\"green\" stroke-width=\"0.435681\" d=\"M342.596,-239.157C343.269,-222.918 342.319,-186.946 323,-166.752 279.278,-121.052 199.688,-113.551 159.163,-112.886\"/>\r\n",
       "<polygon fill=\"green\" stroke=\"green\" stroke-width=\"0.435681\" points=\"159.072,-109.385 149.06,-112.851 159.047,-116.385 159.072,-109.385\"/>\r\n",
       "</g>\r\n",
       "<!-- Low&#45;&gt;10 -->\r\n",
       "<g id=\"edge15\" class=\"edge\"><title>Low&#45;&gt;10</title>\r\n",
       "<path fill=\"none\" stroke=\"green\" stroke-width=\"0.36897\" d=\"M357.524,-239.415C369.966,-231.955 386.536,-219.614 394,-203.522 403.547,-182.938 398.025,-157.16 391.31,-138.447\"/>\r\n",
       "<polygon fill=\"green\" stroke=\"green\" stroke-width=\"0.36897\" points=\"394.56,-137.148 387.654,-129.113 388.042,-139.701 394.56,-137.148\"/>\r\n",
       "</g>\r\n",
       "<!-- 17 -->\r\n",
       "<g id=\"node12\" class=\"node\"><title>17</title>\r\n",
       "<ellipse fill=\"white\" stroke=\"black\" cx=\"464\" cy=\"-185.137\" rx=\"18.2703\" ry=\"18.2703\"/>\r\n",
       "<text text-anchor=\"middle\" x=\"464\" y=\"-182.937\" font-family=\"Times New Roman,serif\" font-size=\"9.00\">17</text>\r\n",
       "</g>\r\n",
       "<!-- Low&#45;&gt;17 -->\r\n",
       "<g id=\"edge42\" class=\"edge\"><title>Low&#45;&gt;17</title>\r\n",
       "<path fill=\"none\" stroke=\"green\" stroke-width=\"0.476011\" d=\"M358.694,-239.624C376.844,-230.977 406.65,-216.597 432,-203.522 434.311,-202.33 436.705,-201.072 439.096,-199.801\"/>\r\n",
       "<polygon fill=\"green\" stroke=\"green\" stroke-width=\"0.476011\" points=\"440.977,-202.763 448.12,-194.939 437.657,-196.601 440.977,-202.763\"/>\r\n",
       "</g>\r\n",
       "<!-- Close -->\r\n",
       "<g id=\"node4\" class=\"node\"><title>Close</title>\r\n",
       "<polygon fill=\"lightgray\" stroke=\"black\" points=\"192.5,-257.522 155.5,-257.522 155.5,-239.522 192.5,-239.522 192.5,-257.522\"/>\r\n",
       "<text text-anchor=\"middle\" x=\"174\" y=\"-246.322\" font-family=\"Times New Roman,serif\" font-size=\"9.00\">Close</text>\r\n",
       "</g>\r\n",
       "<!-- Close&#45;&gt;Action -->\r\n",
       "<g id=\"edge34\" class=\"edge\"><title>Close&#45;&gt;Action</title>\r\n",
       "<path fill=\"none\" stroke=\"green\" stroke-width=\"0.106642\" d=\"M155.377,-243.704C123.709,-236.792 61.5646,-221.265 49,-203.522 10.1407,-148.647 88.718,-83.2405 136.289,-50.6239\"/>\r\n",
       "<polygon fill=\"green\" stroke=\"green\" stroke-width=\"0.106642\" points=\"138.425,-53.4057 144.776,-44.9252 134.523,-47.5944 138.425,-53.4057\"/>\r\n",
       "</g>\r\n",
       "<!-- Close&#45;&gt;6 -->\r\n",
       "<g id=\"edge16\" class=\"edge\"><title>Close&#45;&gt;6</title>\r\n",
       "<path fill=\"none\" stroke=\"red\" stroke-width=\"0.257251\" d=\"M179.36,-239.497C184.909,-231.189 193.803,-217.873 201.317,-206.623\"/>\r\n",
       "<polygon fill=\"red\" stroke=\"red\" stroke-width=\"0.257251\" points=\"204.314,-208.437 206.958,-198.178 198.493,-204.55 204.314,-208.437\"/>\r\n",
       "</g>\r\n",
       "<!-- Close&#45;&gt;7 -->\r\n",
       "<g id=\"edge17\" class=\"edge\"><title>Close&#45;&gt;7</title>\r\n",
       "<path fill=\"none\" stroke=\"red\" stroke-width=\"0.430233\" d=\"M190.918,-239.421C207.967,-231.058 234.852,-217.321 257,-203.522 258.31,-202.706 259.643,-201.842 260.974,-200.953\"/>\r\n",
       "<polygon fill=\"red\" stroke=\"red\" stroke-width=\"0.430233\" points=\"263.335,-203.572 269.506,-194.961 259.312,-197.844 263.335,-203.572\"/>\r\n",
       "</g>\r\n",
       "<!-- Close&#45;&gt;8 -->\r\n",
       "<g id=\"edge18\" class=\"edge\"><title>Close&#45;&gt;8</title>\r\n",
       "<path fill=\"none\" stroke=\"red\" stroke-width=\"0.241024\" d=\"M160.796,-239.497C143.809,-229.173 114.101,-211.117 93.9981,-198.899\"/>\r\n",
       "<polygon fill=\"red\" stroke=\"red\" stroke-width=\"0.241024\" points=\"95.6217,-195.79 85.2584,-193.587 91.9861,-201.772 95.6217,-195.79\"/>\r\n",
       "</g>\r\n",
       "<!-- Close&#45;&gt;9 -->\r\n",
       "<g id=\"edge19\" class=\"edge\"><title>Close&#45;&gt;9</title>\r\n",
       "<path fill=\"none\" stroke=\"green\" stroke-width=\"0.309605\" d=\"M171.498,-239.13C165.47,-218.913 149.972,-166.936 140.899,-136.505\"/>\r\n",
       "<polygon fill=\"green\" stroke=\"green\" stroke-width=\"0.309605\" points=\"144.195,-135.31 137.983,-126.727 137.487,-137.31 144.195,-135.31\"/>\r\n",
       "</g>\r\n",
       "<!-- Close&#45;&gt;10 -->\r\n",
       "<g id=\"edge20\" class=\"edge\"><title>Close&#45;&gt;10</title>\r\n",
       "<path fill=\"none\" stroke=\"red\" stroke-width=\"0.121448\" d=\"M192.839,-246.187C223.104,-243.186 283.188,-233.604 323,-203.522 344.838,-187.021 360.461,-159.519 369.765,-139.221\"/>\r\n",
       "<polygon fill=\"red\" stroke=\"red\" stroke-width=\"0.121448\" points=\"373.034,-140.481 373.825,-129.915 366.618,-137.682 373.034,-140.481\"/>\r\n",
       "</g>\r\n",
       "<!-- Volume -->\r\n",
       "<g id=\"node5\" class=\"node\"><title>Volume</title>\r\n",
       "<polygon fill=\"lightgray\" stroke=\"black\" points=\"486,-257.522 442,-257.522 442,-239.522 486,-239.522 486,-257.522\"/>\r\n",
       "<text text-anchor=\"middle\" x=\"464\" y=\"-246.322\" font-family=\"Times New Roman,serif\" font-size=\"9.00\">Volume</text>\r\n",
       "</g>\r\n",
       "<!-- Volume&#45;&gt;Action -->\r\n",
       "<g id=\"edge35\" class=\"edge\"><title>Volume&#45;&gt;Action</title>\r\n",
       "<path fill=\"none\" stroke=\"red\" stroke-width=\"0.26521\" d=\"M476.083,-239.387C486.493,-231.583 500.793,-218.754 507,-203.522 526.737,-155.088 506.403,-124.599 464,-93.9828 423.384,-64.6571 278.901,-43.4429 208.343,-34.5806\"/>\r\n",
       "<polygon fill=\"red\" stroke=\"red\" stroke-width=\"0.26521\" points=\"208.439,-31.066 198.086,-33.314 207.581,-38.0132 208.439,-31.066\"/>\r\n",
       "</g>\r\n",
       "<!-- Volume&#45;&gt;6 -->\r\n",
       "<g id=\"edge21\" class=\"edge\"><title>Volume&#45;&gt;6</title>\r\n",
       "<path fill=\"none\" stroke=\"red\" stroke-width=\"0.544205\" d=\"M441.907,-244.192C403.682,-238.129 322.968,-223.997 257,-203.522 250.723,-201.574 244.085,-199.053 237.986,-196.539\"/>\r\n",
       "<polygon fill=\"red\" stroke=\"red\" stroke-width=\"0.544205\" points=\"238.957,-193.147 228.387,-192.416 236.194,-199.579 238.957,-193.147\"/>\r\n",
       "</g>\r\n",
       "<!-- Volume&#45;&gt;7 -->\r\n",
       "<g id=\"edge22\" class=\"edge\"><title>Volume&#45;&gt;7</title>\r\n",
       "<path fill=\"none\" stroke=\"green\" stroke-width=\"0.50945\" d=\"M441.926,-240.117C407.144,-228.45 339.893,-205.892 304.34,-193.966\"/>\r\n",
       "<polygon fill=\"green\" stroke=\"green\" stroke-width=\"0.50945\" points=\"305.394,-190.628 294.8,-190.766 303.168,-197.265 305.394,-190.628\"/>\r\n",
       "</g>\r\n",
       "<!-- Volume&#45;&gt;8 -->\r\n",
       "<g id=\"edge23\" class=\"edge\"><title>Volume&#45;&gt;8</title>\r\n",
       "<path fill=\"none\" stroke=\"red\" stroke-width=\"0.218088\" d=\"M441.858,-244.046C374.079,-233.405 169.699,-201.318 98.1039,-190.078\"/>\r\n",
       "<polygon fill=\"red\" stroke=\"red\" stroke-width=\"0.218088\" points=\"98.2166,-186.553 87.7947,-188.46 97.1308,-193.468 98.2166,-186.553\"/>\r\n",
       "</g>\r\n",
       "<!-- Volume&#45;&gt;9 -->\r\n",
       "<g id=\"edge24\" class=\"edge\"><title>Volume&#45;&gt;9</title>\r\n",
       "<path fill=\"none\" stroke=\"red\" stroke-width=\"0.173266\" d=\"M471.278,-239.428C484.563,-223.662 509.722,-188.483 491,-166.752 469.264,-141.525 237.529,-121.388 159.486,-115.279\"/>\r\n",
       "<polygon fill=\"red\" stroke=\"red\" stroke-width=\"0.173266\" points=\"159.37,-111.76 149.13,-114.481 158.832,-118.739 159.37,-111.76\"/>\r\n",
       "</g>\r\n",
       "<!-- Volume&#45;&gt;10 -->\r\n",
       "<g id=\"edge25\" class=\"edge\"><title>Volume&#45;&gt;10</title>\r\n",
       "<path fill=\"none\" stroke=\"green\" stroke-width=\"0.201975\" d=\"M482.992,-239.45C497.159,-232.29 515.475,-220.345 524,-203.522 531.387,-188.945 533.334,-180.167 524,-166.752 498.03,-129.427 442.754,-118.14 408.744,-114.765\"/>\r\n",
       "<polygon fill=\"green\" stroke=\"green\" stroke-width=\"0.201975\" points=\"408.767,-111.255 398.513,-113.923 408.193,-118.231 408.767,-111.255\"/>\r\n",
       "</g>\r\n",
       "<!-- Volume&#45;&gt;17 -->\r\n",
       "<g id=\"edge45\" class=\"edge\"><title>Volume&#45;&gt;17</title>\r\n",
       "<path fill=\"none\" stroke=\"green\" stroke-width=\"0.257162\" d=\"M464,-239.497C464,-232.933 464,-223.243 464,-213.916\"/>\r\n",
       "<polygon fill=\"green\" stroke=\"green\" stroke-width=\"0.257162\" points=\"467.5,-213.725 464,-203.725 460.5,-213.725 467.5,-213.725\"/>\r\n",
       "</g>\r\n",
       "<!-- Action&#45;&gt;Action -->\r\n",
       "<g id=\"edge36\" class=\"edge\"><title>Action&#45;&gt;Action</title>\r\n",
       "<path fill=\"none\" stroke=\"green\" stroke-width=\"0.288238\" d=\"M194.14,-44.0623C205.802,-45.7064 215.991,-40.6828 215.991,-28.9914 215.991,-20.9535 211.175,-16.0673 204.376,-14.3325\"/>\r\n",
       "<polygon fill=\"green\" stroke=\"green\" stroke-width=\"0.288238\" points=\"204.272,-10.8256 194.14,-13.9204 203.991,-17.82 204.272,-10.8256\"/>\r\n",
       "</g>\r\n",
       "<!-- 6&#45;&gt;Action -->\r\n",
       "<g id=\"edge26\" class=\"edge\"><title>6&#45;&gt;Action</title>\r\n",
       "<path fill=\"none\" stroke=\"green\" stroke-width=\"0.388259\" d=\"M210.998,-170.727C204.164,-147.826 190.015,-100.414 180.034,-66.966\"/>\r\n",
       "<polygon fill=\"green\" stroke=\"green\" stroke-width=\"0.388259\" points=\"183.296,-65.6581 177.083,-57.0766 176.589,-67.6599 183.296,-65.6581\"/>\r\n",
       "</g>\r\n",
       "<!-- 6&#45;&gt;6 -->\r\n",
       "<g id=\"edge37\" class=\"edge\"><title>6&#45;&gt;6</title>\r\n",
       "<path fill=\"none\" stroke=\"red\" stroke-width=\"0.324736\" d=\"M226.447,-194.693C236.781,-199.342 247.849,-196.157 247.849,-185.137 247.849,-177.733 242.853,-173.866 236.439,-173.535\"/>\r\n",
       "<polygon fill=\"red\" stroke=\"red\" stroke-width=\"0.324736\" points=\"235.542,-170.146 226.447,-175.581 236.946,-177.004 235.542,-170.146\"/>\r\n",
       "</g>\r\n",
       "<!-- 7&#45;&gt;Action -->\r\n",
       "<g id=\"edge27\" class=\"edge\"><title>7&#45;&gt;Action</title>\r\n",
       "<path fill=\"none\" stroke=\"green\" stroke-width=\"0.29193\" d=\"M272.582,-172.551C255.605,-149.185 216.753,-95.7144 191.755,-61.3097\"/>\r\n",
       "<polygon fill=\"green\" stroke=\"green\" stroke-width=\"0.29193\" points=\"194.43,-59.0362 185.72,-53.0035 188.767,-63.1508 194.43,-59.0362\"/>\r\n",
       "</g>\r\n",
       "<!-- 7&#45;&gt;7 -->\r\n",
       "<g id=\"edge38\" class=\"edge\"><title>7&#45;&gt;7</title>\r\n",
       "<path fill=\"none\" stroke=\"red\" stroke-width=\"0.202949\" d=\"M292.447,-194.693C302.781,-199.342 313.849,-196.157 313.849,-185.137 313.849,-177.733 308.853,-173.866 302.439,-173.535\"/>\r\n",
       "<polygon fill=\"red\" stroke=\"red\" stroke-width=\"0.202949\" points=\"301.542,-170.146 292.447,-175.581 302.946,-177.004 301.542,-170.146\"/>\r\n",
       "</g>\r\n",
       "<!-- 8&#45;&gt;Action -->\r\n",
       "<g id=\"edge28\" class=\"edge\"><title>8&#45;&gt;Action</title>\r\n",
       "<path fill=\"none\" stroke=\"red\" stroke-width=\"0.55945\" d=\"M76.895,-170.585C82.5137,-152.292 94.0032,-119.098 110,-93.9828 118.575,-80.5206 130.118,-67.2736 140.72,-56.3561\"/>\r\n",
       "<polygon fill=\"red\" stroke=\"red\" stroke-width=\"0.55945\" points=\"143.277,-58.7479 147.861,-49.1959 138.321,-53.8046 143.277,-58.7479\"/>\r\n",
       "</g>\r\n",
       "<!-- 8&#45;&gt;8 -->\r\n",
       "<g id=\"edge39\" class=\"edge\"><title>8&#45;&gt;8</title>\r\n",
       "<path fill=\"none\" stroke=\"red\" stroke-width=\"0.167585\" d=\"M84.4469,-194.693C94.7805,-199.342 105.849,-196.157 105.849,-185.137 105.849,-177.733 100.853,-173.866 94.4395,-173.535\"/>\r\n",
       "<polygon fill=\"red\" stroke=\"red\" stroke-width=\"0.167585\" points=\"93.5416,-170.146 84.4469,-175.581 94.9457,-177.004 93.5416,-170.146\"/>\r\n",
       "</g>\r\n",
       "<!-- 8&#45;&gt;9 -->\r\n",
       "<g id=\"edge44\" class=\"edge\"><title>8&#45;&gt;9</title>\r\n",
       "<path fill=\"none\" stroke=\"green\" stroke-width=\"0.123137\" d=\"M82.2646,-173.389C91.7592,-162.373 106.704,-145.035 118.095,-131.819\"/>\r\n",
       "<polygon fill=\"green\" stroke=\"green\" stroke-width=\"0.123137\" points=\"120.77,-134.077 124.648,-124.217 115.468,-129.506 120.77,-134.077\"/>\r\n",
       "</g>\r\n",
       "<!-- 9&#45;&gt;Action -->\r\n",
       "<g id=\"edge29\" class=\"edge\"><title>9&#45;&gt;Action</title>\r\n",
       "<path fill=\"none\" stroke=\"green\" stroke-width=\"0.140372\" d=\"M139.623,-98.293C143.496,-89.2885 148.838,-76.8676 153.906,-65.0847\"/>\r\n",
       "<polygon fill=\"green\" stroke=\"green\" stroke-width=\"0.140372\" points=\"157.143,-66.4186 157.878,-55.8494 150.712,-63.6528 157.143,-66.4186\"/>\r\n",
       "</g>\r\n",
       "<!-- 9&#45;&gt;9 -->\r\n",
       "<g id=\"edge40\" class=\"edge\"><title>9&#45;&gt;9</title>\r\n",
       "<path fill=\"none\" stroke=\"green\" stroke-width=\"0.17626\" d=\"M144.767,-123.096C155.289,-129.022 166.849,-125.446 166.849,-112.368 166.849,-103.376 161.385,-98.8763 154.551,-98.8675\"/>\r\n",
       "<polygon fill=\"green\" stroke=\"green\" stroke-width=\"0.17626\" points=\"153.434,-95.5461 144.767,-101.639 155.342,-102.281 153.434,-95.5461\"/>\r\n",
       "</g>\r\n",
       "<!-- 10&#45;&gt;Action -->\r\n",
       "<g id=\"edge30\" class=\"edge\"><title>10&#45;&gt;Action</title>\r\n",
       "<path fill=\"none\" stroke=\"red\" stroke-width=\"0.218884\" d=\"M363.09,-104.846C329.016,-91.7044 251.431,-61.7823 205.337,-44.0052\"/>\r\n",
       "<polygon fill=\"red\" stroke=\"red\" stroke-width=\"0.218884\" points=\"206.318,-40.6325 195.728,-40.2997 203.799,-47.1636 206.318,-40.6325\"/>\r\n",
       "</g>\r\n",
       "<!-- 10&#45;&gt;10 -->\r\n",
       "<g id=\"edge41\" class=\"edge\"><title>10&#45;&gt;10</title>\r\n",
       "<path fill=\"none\" stroke=\"red\" stroke-width=\"0.358786\" d=\"M394.192,-124.124C405.179,-128.521 416.385,-124.602 416.385,-112.368 416.385,-103.956 411.088,-99.4757 404.208,-98.9253\"/>\r\n",
       "<polygon fill=\"red\" stroke=\"red\" stroke-width=\"0.358786\" points=\"403.472,-95.4998 394.192,-100.611 404.634,-102.403 403.472,-95.4998\"/>\r\n",
       "</g>\r\n",
       "<!-- 17&#45;&gt;10 -->\r\n",
       "<g id=\"edge43\" class=\"edge\"><title>17&#45;&gt;10</title>\r\n",
       "<path fill=\"none\" stroke=\"green\" stroke-width=\"0.41172\" d=\"M450.129,-172.451C436.918,-161.321 416.836,-144.402 401.543,-131.517\"/>\r\n",
       "<polygon fill=\"green\" stroke=\"green\" stroke-width=\"0.41172\" points=\"403.516,-128.603 393.613,-124.836 399.005,-133.956 403.516,-128.603\"/>\r\n",
       "</g>\r\n",
       "</g>\r\n",
       "</svg>\r\n"
      ],
      "text/plain": [
       "<graphviz.dot.Digraph at 0x2549852a788>"
      ]
     },
     "execution_count": 14,
     "metadata": {},
     "output_type": "execute_result"
    }
   ],
   "source": [
    "visualize.draw_net(strategy._config, winner, False, node_names=node_names)\n"
   ]
  },
  {
   "cell_type": "code",
   "execution_count": null,
   "metadata": {},
   "outputs": [],
   "source": []
  },
  {
   "cell_type": "code",
   "execution_count": null,
   "metadata": {},
   "outputs": [],
   "source": []
  }
 ],
 "metadata": {
  "kernelspec": {
   "display_name": "Python [conda env:tt_fresh] *",
   "language": "python",
   "name": "conda-env-tt_fresh-py"
  },
  "language_info": {
   "codemirror_mode": {
    "name": "ipython",
    "version": 3
   },
   "file_extension": ".py",
   "mimetype": "text/x-python",
   "name": "python",
   "nbconvert_exporter": "python",
   "pygments_lexer": "ipython3",
   "version": "3.7.4"
  }
 },
 "nbformat": 4,
 "nbformat_minor": 4
}
