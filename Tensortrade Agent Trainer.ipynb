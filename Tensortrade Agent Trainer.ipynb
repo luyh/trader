{
 "cells": [
  {
   "cell_type": "code",
   "execution_count": 1,
   "metadata": {},
   "outputs": [
    {
     "data": {
      "text/plain": [
       "True"
      ]
     },
     "execution_count": 1,
     "metadata": {},
     "output_type": "execute_result"
    }
   ],
   "source": [
    "%matplotlib inline\n",
    "%load_ext autoreload\n",
    "\n",
    "%autoreload 2\n",
    "import tensorflow as tf\n",
    "tf.enable_eager_execution()\n",
    "tf.executing_eagerly()"
   ]
  },
  {
   "cell_type": "code",
   "execution_count": 2,
   "metadata": {},
   "outputs": [
    {
     "name": "stdout",
     "output_type": "stream",
     "text": [
      "Processing c:\\users\\codeninja\\dev\\forks\\tensortrade_source\n",
      "Requirement already satisfied, skipping upgrade: numpy==1.16.4 in c:\\users\\codeninja\\appdata\\roaming\\python\\python37\\site-packages (from tensortrade==0.0.2rc0) (1.16.4)\n",
      "Requirement already satisfied, skipping upgrade: pandas==0.25.0 in c:\\users\\codeninja\\appdata\\roaming\\python\\python37\\site-packages (from tensortrade==0.0.2rc0) (0.25.0)\n",
      "Requirement already satisfied, skipping upgrade: gym==0.14.0 in c:\\users\\codeninja\\appdata\\roaming\\python\\python37\\site-packages (from tensortrade==0.0.2rc0) (0.14.0)\n",
      "Requirement already satisfied, skipping upgrade: python-dateutil>=2.6.1 in c:\\users\\codeninja\\anaconda3\\envs\\tt_fresh\\lib\\site-packages (from pandas==0.25.0->tensortrade==0.0.2rc0) (2.8.0)\n",
      "Requirement already satisfied, skipping upgrade: pytz>=2017.2 in c:\\users\\codeninja\\anaconda3\\envs\\tt_fresh\\lib\\site-packages (from pandas==0.25.0->tensortrade==0.0.2rc0) (2019.3)\n",
      "Requirement already satisfied, skipping upgrade: pyglet<=1.3.2,>=1.2.0 in c:\\users\\codeninja\\anaconda3\\envs\\tt_fresh\\lib\\site-packages (from gym==0.14.0->tensortrade==0.0.2rc0) (1.3.2)\n",
      "Requirement already satisfied, skipping upgrade: cloudpickle~=1.2.0 in c:\\users\\codeninja\\anaconda3\\envs\\tt_fresh\\lib\\site-packages (from gym==0.14.0->tensortrade==0.0.2rc0) (1.2.2)\n",
      "Requirement already satisfied, skipping upgrade: scipy in c:\\users\\codeninja\\anaconda3\\envs\\tt_fresh\\lib\\site-packages (from gym==0.14.0->tensortrade==0.0.2rc0) (1.3.1)\n",
      "Requirement already satisfied, skipping upgrade: six in c:\\users\\codeninja\\anaconda3\\envs\\tt_fresh\\lib\\site-packages (from gym==0.14.0->tensortrade==0.0.2rc0) (1.12.0)\n",
      "Requirement already satisfied, skipping upgrade: future in c:\\users\\codeninja\\anaconda3\\envs\\tt_fresh\\lib\\site-packages (from pyglet<=1.3.2,>=1.2.0->gym==0.14.0->tensortrade==0.0.2rc0) (0.18.1)\n",
      "Building wheels for collected packages: tensortrade\n",
      "  Building wheel for tensortrade (setup.py): started\n",
      "  Building wheel for tensortrade (setup.py): finished with status 'done'\n",
      "  Created wheel for tensortrade: filename=tensortrade-0.0.2rc0-cp37-none-any.whl size=56841 sha256=10213f8412ef370143346d50c406ff97212431a9bda9d30724ad8a268b7c9793\n",
      "  Stored in directory: C:\\Users\\CODENI~1\\AppData\\Local\\Temp\\pip-ephem-wheel-cache-ofyh2jgw\\wheels\\62\\be\\3a\\90782c795f0ba93fec4a55c551ac7e8f7e7ea933797e4f71c0\n",
      "Successfully built tensortrade\n",
      "Installing collected packages: tensortrade\n",
      "  Found existing installation: tensortrade 0.0.2rc0\n",
      "    Uninstalling tensortrade-0.0.2rc0:\n",
      "      Successfully uninstalled tensortrade-0.0.2rc0\n",
      "Successfully installed tensortrade-0.0.2rc0\n"
     ]
    }
   ],
   "source": [
    "!pip install ../forks/tensortrade_source/ -U"
   ]
  },
  {
   "cell_type": "code",
   "execution_count": 3,
   "metadata": {},
   "outputs": [],
   "source": [
    "import os\n",
    "import sys\n",
    "import warnings\n",
    "import numpy\n",
    "import ccxt\n",
    "import pandas as pd\n",
    "import numpy as np\n",
    "from time import time\n",
    "import math\n",
    "import cProfile as cp\n",
    "import matplotlib.pyplot as plt\n",
    "\n",
    "from gym.spaces import Space, Box\n",
    "\n",
    "config = './neat.config'\n",
    "\n",
    "def warn(*args, **kwargs):\n",
    "    pass\n",
    "\n",
    "warnings.warn = warn\n",
    "warnings.simplefilter(action='ignore', category=FutureWarning)\n",
    "numpy.seterr(divide = 'ignore') \n",
    "\n",
    "sys.path.append(os.path.dirname(os.path.abspath('')))\n",
    "sys.path.append(os.path.abspath('')+\"\\\\tensortrade\")\n"
   ]
  },
  {
   "cell_type": "markdown",
   "metadata": {},
   "source": [
    "**Load Data**"
   ]
  },
  {
   "cell_type": "code",
   "execution_count": 4,
   "metadata": {},
   "outputs": [
    {
     "name": "stdout",
     "output_type": "stream",
     "text": [
      "Friend Shape (180236, 12)\n",
      "train shape (26279, 12)\n",
      "test shape (17520, 12)\n",
      "columns Index(['open', 'high', 'low', 'close', 'volume', 'momentum_rsi', 'adx',\n",
      "       'adx_long', 'adx_pos', 'adx_neg', 'trend_ema_fast', 'trend_ema_slow'],\n",
      "      dtype='object')\n"
     ]
    }
   ],
   "source": [
    "\n",
    "data_file ='./data/processed/binance/btc_usdt_1h.csv' \n",
    "df = pd.read_csv(data_file, index_col=[0])\n",
    "\n",
    "\n",
    "# number of days we want to pull from the dataframe \n",
    "days_of_data = 365\n",
    "\n",
    "# number of data frames (our DF is in 1h timesteps)\n",
    "frames = days_of_data * 24 * 5\n",
    "# frames = len(df)\n",
    "train_test_percentage = 0.4\n",
    "\n",
    "x_train = int(frames * (1 - train_test_percentage))\n",
    "x_test = int(frames - x_train)\n",
    "\n",
    "df_train = df[-frames:(-x_test - 1)]\n",
    "df_test = df[-x_test:]\n",
    "print(\"Friend Shape\", df.shape)\n",
    "print('train shape', df_train.shape)\n",
    "print('test shape', df_test.shape)\n",
    "print('columns', df.columns)"
   ]
  },
  {
   "cell_type": "markdown",
   "metadata": {},
   "source": [
    "**Train against training data**"
   ]
  },
  {
   "cell_type": "code",
   "execution_count": null,
   "metadata": {
    "scrolled": false
   },
   "outputs": [
    {
     "name": "stdout",
     "output_type": "stream",
     "text": [
      "Population's average fitness: 867.65472 stdev: 1121.21564\n",
      "Best fitness: 2239.10755 - size: (13, 169) - species 1 - id 1\n",
      "Average adjusted fitness: 0.665\n",
      "Mean genetic distance 3.676, standard deviation 0.749\n",
      "Population of 200 members in 20 species:\n",
      "   ID   age  size  fitness  adj fit  stag\n",
      "  ====  ===  ====  =======  =======  ====\n",
      "     1    4    10   2239.1    0.619     4\n",
      "     2    4    10   1764.5    0.464     1\n",
      "     3    4    10    997.9    0.430     3\n",
      "     4    4    10   2022.9    0.882     3\n",
      "     5    4    10   2220.0    0.770     1\n",
      "     6    4    10   2220.0    0.831     0\n",
      "     7    4    10   1835.0    0.442     2\n",
      "     8    4    10   2008.7    0.845     3\n",
      "     9    4    10   2209.0    0.680     4\n",
      "    10    4    10   2044.8    0.502     1\n",
      "    11    4    10   2033.2    0.586     2\n",
      "    12    4    10   2176.0    0.681     2\n",
      "    13    4    10   2022.9    0.502     3\n",
      "    14    4    10   2198.0    0.608     2\n",
      "    15    4    10   1997.0    0.622     1\n",
      "    16    4    10   2031.3    0.932     2\n",
      "    17    4    10   -244.0    0.393     3\n",
      "    18    4    10   2194.6    0.843     1\n",
      "    19    4    10   2017.4    0.932     3\n",
      "    20    4    10   2037.4    0.743     2\n",
      "Total extinctions: 0\n",
      "Generation time: 84.737 sec (66.887 average)\n",
      "Saving checkpoint to neat-checkpoint-4\n",
      "\n",
      " ****** Running generation 5 ****** \n",
      "\n",
      "---------------------------\n",
      "Genome ID:  60\n",
      "Rewards: -233\n",
      "Balance: 0.04999999999949867\n",
      "Net Worth: 9739.975185513596\n",
      "Steps Completed 288\n",
      "Most common action dict_items([('MARKET_BUY', 286), ('LIMIT_BUY', 1)])\n",
      "Number of trades: Counter({<TradeType.MARKET_BUY: 2>: 4, <TradeType.LIMIT_BUY: 1>: 1})\n"
     ]
    }
   ],
   "source": [
    "import tensortrade\n",
    "from neat_trading_strategy import NeatTradingStrategy as TradingStrategy\n",
    "from neat_reward_strategy import NeatRewardStrategy as ProfitStrategy\n",
    "from tensortrade.actions import DiscreteActionStrategy as ActionStrategy\n",
    "from tensortrade.exchanges.simulated import SimulatedExchange as Exchange\n",
    "from tensortrade.features.scalers import MinMaxNormalizer\n",
    "from tensortrade.features import FeaturePipeline\n",
    "from tensortrade.environments import TradingEnvironment as Environment\n",
    "\n",
    "print('fin imports')\n",
    "normalize = MinMaxNormalizer(inplace=True)\n",
    "feature_pipeline = FeaturePipeline(steps=[normalize])\n",
    "\n",
    "reward_strategy = ProfitStrategy()\n",
    "action_strategy = ActionStrategy(n_actions=20, instrument_symbol='BTC/USDT')\n",
    "print('fin strats')\n",
    "\n",
    "exchange = Exchange(data_frame=df_train,\n",
    "                    pretransform = True,\n",
    "                    base_instrument='USDT', \n",
    "                    commission_percent=0.75,\n",
    "                    window_size=1,\n",
    "                    max_allowed_slippage_percent=3.0,\n",
    "                    min_order_amount=1E-4,\n",
    "                    min_trade_amount=1E-4,\n",
    "                    observation_columns = df_train.columns\n",
    "                   )\n",
    "print('fin exchange')\n",
    "\n",
    "environment = Environment(exchange=exchange,\n",
    "                                 action_strategy=action_strategy,\n",
    "                                 reward_strategy=reward_strategy,\n",
    "                                 feature_pipeline=feature_pipeline)\n",
    "print('fin environment')\n",
    "print('')\n",
    "\n",
    "segments_in_day = 288\n",
    "days = 1\n",
    "\n",
    "strategy = TradingStrategy(environment=environment, \n",
    "                           neat_config=config, \n",
    "                           watch_genome_evaluation=True,\n",
    "                           only_show_profitable=False,\n",
    "                           learn_to_trade_theshold=-10000,\n",
    "                           data_frame_window = segments_in_day * days\n",
    "                          )\n",
    "\n",
    "print(\"Running through \", strategy._data_frame_window, ' steps')\n",
    "# cp.run(\"performance, winner, stats = strategy.run(generations=20)\", 'evolution_stats')\n",
    "performance, winner, stats = strategy.run(generations=200)"
   ]
  },
  {
   "cell_type": "markdown",
   "metadata": {},
   "source": [
    "**Evaluate against full dataset**"
   ]
  },
  {
   "cell_type": "code",
   "execution_count": null,
   "metadata": {},
   "outputs": [],
   "source": [
    "exchange = Exchange(data_frame=df,\n",
    "                    should_pretransform_obs = True,\n",
    "                    base_instrument='USDT', \n",
    "                    timeframe='1h',\n",
    "                    dtype=np.float32,\n",
    "                    commission_percent=0.5,\n",
    "                    window_size=1,\n",
    "                    max_allowed_slippage_percent=3.0,\n",
    "                    min_order_amount=1E-4,\n",
    "                    min_trade_amount=1E-4\n",
    "                   )\n",
    "environment = Environment(exchange=exchange,\n",
    "                                 action_strategy=action_strategy,\n",
    "                                 reward_strategy=reward_strategy,\n",
    "                                 feature_pipeline=feature_pipeline)\n",
    "\n",
    "environment.reset()\n",
    "from neat_trading_strategy import NeatTradingStrategy as TradingStrategy\n",
    "\n",
    "strategy = TradingStrategy(environment=environment, watch_genome_evaluation=True, full_evaluation = True, neat_config=config)"
   ]
  },
  {
   "cell_type": "code",
   "execution_count": null,
   "metadata": {},
   "outputs": [],
   "source": [
    "strategy.eval_genome(winner)"
   ]
  },
  {
   "cell_type": "code",
   "execution_count": null,
   "metadata": {},
   "outputs": [],
   "source": [
    "print(environment.exchange.trades)\n",
    "environment.exchange.performance.net_worth.plot()"
   ]
  },
  {
   "cell_type": "code",
   "execution_count": null,
   "metadata": {},
   "outputs": [],
   "source": [
    "import visualize\n",
    "\n",
    "visualize.plot_stats(stats, ylog=False, view=True)\n"
   ]
  },
  {
   "cell_type": "code",
   "execution_count": null,
   "metadata": {},
   "outputs": [],
   "source": [
    "visualize.plot_species(stats, view=True)"
   ]
  },
  {
   "cell_type": "code",
   "execution_count": null,
   "metadata": {
    "scrolled": false
   },
   "outputs": [],
   "source": [
    "visualize.draw_net(strategy._config, winner, False, node_names=node_names)\n"
   ]
  },
  {
   "cell_type": "markdown",
   "metadata": {},
   "source": [
    "**Save Strategy**"
   ]
  },
  {
   "cell_type": "code",
   "execution_count": null,
   "metadata": {},
   "outputs": [],
   "source": [
    "columns = [\"Action\"]+list(exchange.data_frame.columns)\n",
    "\n",
    "nodes = list(range(len(columns)*-1,1))\n",
    "nodes.reverse()\n",
    "node_names = dict( zip(nodes, columns))\n",
    "print(node_names)"
   ]
  },
  {
   "cell_type": "code",
   "execution_count": null,
   "metadata": {},
   "outputs": [],
   "source": [
    "dir(winner.connections.keys)\n",
    "keys = list(winner.connections.values())\n",
    "\n",
    "keys[0].weight/5"
   ]
  },
  {
   "cell_type": "code",
   "execution_count": null,
   "metadata": {},
   "outputs": [],
   "source": []
  },
  {
   "cell_type": "code",
   "execution_count": null,
   "metadata": {},
   "outputs": [],
   "source": [
    "from tensortrade.trades import Trade, TradeType\n",
    "tt = TradeType(3)\n",
    "t = Trade(\"btc/usdt\",tt, 1, 100)\n",
    "t.price\n",
    "t.transact_price\n",
    "t.fset('transact_price') = 123"
   ]
  }
 ],
 "metadata": {
  "kernelspec": {
   "display_name": "Python [conda env:tt_fresh] *",
   "language": "python",
   "name": "conda-env-tt_fresh-py"
  },
  "language_info": {
   "codemirror_mode": {
    "name": "ipython",
    "version": 3
   },
   "file_extension": ".py",
   "mimetype": "text/x-python",
   "name": "python",
   "nbconvert_exporter": "python",
   "pygments_lexer": "ipython3",
   "version": "3.7.4"
  }
 },
 "nbformat": 4,
 "nbformat_minor": 4
}
