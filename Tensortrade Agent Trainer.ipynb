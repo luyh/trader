{
 "cells": [
  {
   "cell_type": "code",
   "execution_count": 1,
   "metadata": {},
   "outputs": [
    {
     "data": {
      "text/plain": [
       "True"
      ]
     },
     "execution_count": 1,
     "metadata": {},
     "output_type": "execute_result"
    }
   ],
   "source": [
    "%matplotlib inline\n",
    "%load_ext autoreload\n",
    "\n",
    "%autoreload 2\n",
    "import tensorflow as tf\n",
    "tf.enable_eager_execution()\n",
    "tf.executing_eagerly()"
   ]
  },
  {
   "cell_type": "code",
   "execution_count": 2,
   "metadata": {},
   "outputs": [
    {
     "name": "stdout",
     "output_type": "stream",
     "text": [
      "Processing c:\\users\\codeninja\\dev\\forks\\tensortrade_source\n",
      "Requirement already satisfied, skipping upgrade: numpy==1.16.4 in c:\\users\\codeninja\\appdata\\roaming\\python\\python37\\site-packages (from tensortrade==0.1.0rc1) (1.16.4)\n",
      "Requirement already satisfied, skipping upgrade: pandas==0.25.0 in c:\\users\\codeninja\\appdata\\roaming\\python\\python37\\site-packages (from tensortrade==0.1.0rc1) (0.25.0)\n",
      "Requirement already satisfied, skipping upgrade: gym==0.14.0 in c:\\users\\codeninja\\appdata\\roaming\\python\\python37\\site-packages (from tensortrade==0.1.0rc1) (0.14.0)\n",
      "Requirement already satisfied, skipping upgrade: pyyaml==5.1.2 in c:\\users\\codeninja\\anaconda3\\envs\\tt_fresh\\lib\\site-packages (from tensortrade==0.1.0rc1) (5.1.2)\n",
      "Requirement already satisfied, skipping upgrade: python-dateutil>=2.6.1 in c:\\users\\codeninja\\anaconda3\\envs\\tt_fresh\\lib\\site-packages (from pandas==0.25.0->tensortrade==0.1.0rc1) (2.8.0)\n",
      "Requirement already satisfied, skipping upgrade: pytz>=2017.2 in c:\\users\\codeninja\\anaconda3\\envs\\tt_fresh\\lib\\site-packages (from pandas==0.25.0->tensortrade==0.1.0rc1) (2019.3)\n",
      "Requirement already satisfied, skipping upgrade: pyglet<=1.3.2,>=1.2.0 in c:\\users\\codeninja\\anaconda3\\envs\\tt_fresh\\lib\\site-packages (from gym==0.14.0->tensortrade==0.1.0rc1) (1.3.2)\n",
      "Requirement already satisfied, skipping upgrade: six in c:\\users\\codeninja\\anaconda3\\envs\\tt_fresh\\lib\\site-packages (from gym==0.14.0->tensortrade==0.1.0rc1) (1.12.0)\n",
      "Requirement already satisfied, skipping upgrade: cloudpickle~=1.2.0 in c:\\users\\codeninja\\anaconda3\\envs\\tt_fresh\\lib\\site-packages (from gym==0.14.0->tensortrade==0.1.0rc1) (1.2.2)\n",
      "Requirement already satisfied, skipping upgrade: scipy in c:\\users\\codeninja\\anaconda3\\envs\\tt_fresh\\lib\\site-packages (from gym==0.14.0->tensortrade==0.1.0rc1) (1.3.1)\n",
      "Requirement already satisfied, skipping upgrade: future in c:\\users\\codeninja\\anaconda3\\envs\\tt_fresh\\lib\\site-packages (from pyglet<=1.3.2,>=1.2.0->gym==0.14.0->tensortrade==0.1.0rc1) (0.18.1)\n",
      "Building wheels for collected packages: tensortrade\n",
      "  Building wheel for tensortrade (setup.py): started\n",
      "  Building wheel for tensortrade (setup.py): finished with status 'done'\n",
      "  Created wheel for tensortrade: filename=tensortrade-0.1.0rc1-cp37-none-any.whl size=73691 sha256=2a8a53745e49c545f45a79b731f02034f04898e6b32a96472b665cfea5247687\n",
      "  Stored in directory: C:\\Users\\CODENI~1\\AppData\\Local\\Temp\\pip-ephem-wheel-cache-xnysbhge\\wheels\\62\\be\\3a\\90782c795f0ba93fec4a55c551ac7e8f7e7ea933797e4f71c0\n",
      "Successfully built tensortrade\n",
      "Installing collected packages: tensortrade\n",
      "  Found existing installation: tensortrade 0.1.0rc1\n",
      "    Uninstalling tensortrade-0.1.0rc1:\n",
      "      Successfully uninstalled tensortrade-0.1.0rc1\n",
      "Successfully installed tensortrade-0.1.0rc1\n"
     ]
    }
   ],
   "source": [
    "!pip install ../forks/tensortrade_source/ -U"
   ]
  },
  {
   "cell_type": "code",
   "execution_count": 3,
   "metadata": {},
   "outputs": [],
   "source": [
    "import os\n",
    "import sys\n",
    "import warnings\n",
    "import numpy\n",
    "import ccxt\n",
    "import pandas as pd\n",
    "import numpy as np\n",
    "from time import time\n",
    "import math\n",
    "import cProfile as cp\n",
    "import matplotlib.pyplot as plt\n",
    "import pickle\n",
    "\n",
    "from gym.spaces import Space, Box\n",
    "\n",
    "config = './neat.config'\n",
    "\n",
    "def warn(*args, **kwargs):\n",
    "    pass\n",
    "\n",
    "warnings.warn = warn\n",
    "warnings.simplefilter(action='ignore', category=FutureWarning)\n",
    "numpy.seterr(divide = 'ignore') \n",
    "\n",
    "sys.path.append(os.path.dirname(os.path.abspath('')))\n",
    "sys.path.append(os.path.abspath('')+\"\\\\tensortrade\")\n"
   ]
  },
  {
   "cell_type": "markdown",
   "metadata": {},
   "source": [
    "**Load Data**"
   ]
  },
  {
   "cell_type": "code",
   "execution_count": 4,
   "metadata": {},
   "outputs": [
    {
     "name": "stdout",
     "output_type": "stream",
     "text": [
      "Friend Shape (180236, 12)\n",
      "train shape (26279, 12)\n",
      "test shape (17520, 12)\n",
      "columns Index(['open', 'high', 'low', 'close', 'volume', 'momentum_rsi', 'adx',\n",
      "       'adx_long', 'adx_pos', 'adx_neg', 'trend_ema_fast', 'trend_ema_slow'],\n",
      "      dtype='object')\n"
     ]
    }
   ],
   "source": [
    "\n",
    "data_file ='./data/processed/binance/btc_usdt_1h.csv' \n",
    "df = pd.read_csv(data_file, index_col=[0])\n",
    "\n",
    "\n",
    "# number of days we want to pull from the dataframe \n",
    "days_of_data = 365\n",
    "\n",
    "# number of data frames (our DF is in 1h timesteps)\n",
    "frames = days_of_data * 24 * 5\n",
    "# frames = len(df)\n",
    "train_test_percentage = 0.4\n",
    "\n",
    "x_train = int(frames * (1 - train_test_percentage))\n",
    "x_test = int(frames - x_train)\n",
    "\n",
    "df_train = df[-frames:(-x_test - 1)]\n",
    "df_test = df[-x_test:]\n",
    "print(\"Friend Shape\", df.shape)\n",
    "print('train shape', df_train.shape)\n",
    "print('test shape', df_test.shape)\n",
    "print('columns', df.columns)"
   ]
  },
  {
   "cell_type": "code",
   "execution_count": 5,
   "metadata": {},
   "outputs": [
    {
     "data": {
      "text/html": [
       "<div>\n",
       "<style scoped>\n",
       "    .dataframe tbody tr th:only-of-type {\n",
       "        vertical-align: middle;\n",
       "    }\n",
       "\n",
       "    .dataframe tbody tr th {\n",
       "        vertical-align: top;\n",
       "    }\n",
       "\n",
       "    .dataframe thead th {\n",
       "        text-align: right;\n",
       "    }\n",
       "</style>\n",
       "<table border=\"1\" class=\"dataframe\">\n",
       "  <thead>\n",
       "    <tr style=\"text-align: right;\">\n",
       "      <th></th>\n",
       "      <th>open</th>\n",
       "      <th>high</th>\n",
       "      <th>low</th>\n",
       "      <th>close</th>\n",
       "      <th>volume</th>\n",
       "      <th>momentum_rsi</th>\n",
       "      <th>adx</th>\n",
       "      <th>adx_long</th>\n",
       "      <th>adx_pos</th>\n",
       "      <th>adx_neg</th>\n",
       "      <th>trend_ema_fast</th>\n",
       "      <th>trend_ema_slow</th>\n",
       "    </tr>\n",
       "    <tr>\n",
       "      <th>index</th>\n",
       "      <th></th>\n",
       "      <th></th>\n",
       "      <th></th>\n",
       "      <th></th>\n",
       "      <th></th>\n",
       "      <th></th>\n",
       "      <th></th>\n",
       "      <th></th>\n",
       "      <th></th>\n",
       "      <th></th>\n",
       "      <th></th>\n",
       "      <th></th>\n",
       "    </tr>\n",
       "  </thead>\n",
       "  <tbody>\n",
       "    <tr>\n",
       "      <th>2019-08-28 03:35:00</th>\n",
       "      <td>10148.20</td>\n",
       "      <td>10155.65</td>\n",
       "      <td>10140.00</td>\n",
       "      <td>10140.49</td>\n",
       "      <td>103.707956</td>\n",
       "      <td>34.890237</td>\n",
       "      <td>19.680116</td>\n",
       "      <td>9.632237</td>\n",
       "      <td>15.942283</td>\n",
       "      <td>24.099556</td>\n",
       "      <td>10153.780045</td>\n",
       "      <td>10155.268113</td>\n",
       "    </tr>\n",
       "    <tr>\n",
       "      <th>2019-08-28 03:40:00</th>\n",
       "      <td>10140.74</td>\n",
       "      <td>10148.78</td>\n",
       "      <td>10125.01</td>\n",
       "      <td>10133.83</td>\n",
       "      <td>73.728054</td>\n",
       "      <td>30.560787</td>\n",
       "      <td>19.729527</td>\n",
       "      <td>9.551850</td>\n",
       "      <td>14.434463</td>\n",
       "      <td>27.784685</td>\n",
       "      <td>10150.710807</td>\n",
       "      <td>10153.680105</td>\n",
       "    </tr>\n",
       "    <tr>\n",
       "      <th>2019-08-28 03:45:00</th>\n",
       "      <td>10135.11</td>\n",
       "      <td>10145.87</td>\n",
       "      <td>10120.00</td>\n",
       "      <td>10120.01</td>\n",
       "      <td>102.866752</td>\n",
       "      <td>23.560759</td>\n",
       "      <td>20.578936</td>\n",
       "      <td>9.524416</td>\n",
       "      <td>12.994025</td>\n",
       "      <td>26.944578</td>\n",
       "      <td>10145.987606</td>\n",
       "      <td>10151.186023</td>\n",
       "    </tr>\n",
       "    <tr>\n",
       "      <th>2019-08-28 03:50:00</th>\n",
       "      <td>10120.02</td>\n",
       "      <td>10133.51</td>\n",
       "      <td>10116.34</td>\n",
       "      <td>10120.03</td>\n",
       "      <td>55.034065</td>\n",
       "      <td>23.589984</td>\n",
       "      <td>21.604012</td>\n",
       "      <td>9.514225</td>\n",
       "      <td>12.128909</td>\n",
       "      <td>26.569855</td>\n",
       "      <td>10141.994128</td>\n",
       "      <td>10148.878170</td>\n",
       "    </tr>\n",
       "    <tr>\n",
       "      <th>2019-08-28 03:55:00</th>\n",
       "      <td>10120.03</td>\n",
       "      <td>10130.00</td>\n",
       "      <td>10119.02</td>\n",
       "      <td>10126.17</td>\n",
       "      <td>48.912488</td>\n",
       "      <td>32.704088</td>\n",
       "      <td>22.726318</td>\n",
       "      <td>9.516439</td>\n",
       "      <td>11.597170</td>\n",
       "      <td>25.405014</td>\n",
       "      <td>10139.559647</td>\n",
       "      <td>10147.196083</td>\n",
       "    </tr>\n",
       "  </tbody>\n",
       "</table>\n",
       "</div>"
      ],
      "text/plain": [
       "                         open      high       low     close      volume  \\\n",
       "index                                                                     \n",
       "2019-08-28 03:35:00  10148.20  10155.65  10140.00  10140.49  103.707956   \n",
       "2019-08-28 03:40:00  10140.74  10148.78  10125.01  10133.83   73.728054   \n",
       "2019-08-28 03:45:00  10135.11  10145.87  10120.00  10120.01  102.866752   \n",
       "2019-08-28 03:50:00  10120.02  10133.51  10116.34  10120.03   55.034065   \n",
       "2019-08-28 03:55:00  10120.03  10130.00  10119.02  10126.17   48.912488   \n",
       "\n",
       "                     momentum_rsi        adx  adx_long    adx_pos    adx_neg  \\\n",
       "index                                                                          \n",
       "2019-08-28 03:35:00     34.890237  19.680116  9.632237  15.942283  24.099556   \n",
       "2019-08-28 03:40:00     30.560787  19.729527  9.551850  14.434463  27.784685   \n",
       "2019-08-28 03:45:00     23.560759  20.578936  9.524416  12.994025  26.944578   \n",
       "2019-08-28 03:50:00     23.589984  21.604012  9.514225  12.128909  26.569855   \n",
       "2019-08-28 03:55:00     32.704088  22.726318  9.516439  11.597170  25.405014   \n",
       "\n",
       "                     trend_ema_fast  trend_ema_slow  \n",
       "index                                                \n",
       "2019-08-28 03:35:00    10153.780045    10155.268113  \n",
       "2019-08-28 03:40:00    10150.710807    10153.680105  \n",
       "2019-08-28 03:45:00    10145.987606    10151.186023  \n",
       "2019-08-28 03:50:00    10141.994128    10148.878170  \n",
       "2019-08-28 03:55:00    10139.559647    10147.196083  "
      ]
     },
     "execution_count": 5,
     "metadata": {},
     "output_type": "execute_result"
    }
   ],
   "source": [
    "df_test.head()"
   ]
  },
  {
   "cell_type": "markdown",
   "metadata": {},
   "source": [
    "**Load Previous Winner**"
   ]
  },
  {
   "cell_type": "code",
   "execution_count": 6,
   "metadata": {},
   "outputs": [],
   "source": [
    "# winner = \"winner-1751.bin\"\n",
    "# with open(\"winners/{}\".format(winner), \"rb\") as f:\n",
    "#     winner = pickle.load(f)"
   ]
  },
  {
   "cell_type": "markdown",
   "metadata": {},
   "source": [
    "**Train against training data**"
   ]
  },
  {
   "cell_type": "code",
   "execution_count": null,
   "metadata": {},
   "outputs": [
    {
     "name": "stdout",
     "output_type": "stream",
     "text": [
      "fin imports\n",
      "fin strats\n",
      "fin exchange\n",
      "fin environment\n",
      "\n",
      "Running through  2016  steps\n",
      "\n",
      " ****** Running generation 0 ****** \n",
      "\n",
      "Population's average fitness: 1.00000 stdev: 0.00000\n",
      "Best fitness: 1.00000 - size: (13, 0) - species 1 - id 1\n",
      "Average adjusted fitness: 0.000\n",
      "Mean genetic distance 3.676, standard deviation 0.747\n",
      "Population of 200 members in 20 species:\n",
      "   ID   age  size  fitness  adj fit  stag\n",
      "  ====  ===  ====  =======  =======  ====\n",
      "     1    0    10      1.0    0.000     0\n",
      "     2    0    10      1.0    0.000     0\n",
      "     3    0    10      1.0    0.000     0\n",
      "     4    0    10      1.0    0.000     0\n",
      "     5    0    10      1.0    0.000     0\n",
      "     6    0    10      1.0    0.000     0\n",
      "     7    0    10      1.0    0.000     0\n",
      "     8    0    10      1.0    0.000     0\n",
      "     9    0    10      1.0    0.000     0\n",
      "    10    0    10      1.0    0.000     0\n",
      "    11    0    10      1.0    0.000     0\n",
      "    12    0    10      1.0    0.000     0\n",
      "    13    0    10      1.0    0.000     0\n",
      "    14    0    10      1.0    0.000     0\n",
      "    15    0    10      1.0    0.000     0\n",
      "    16    0    10      1.0    0.000     0\n",
      "    17    0    10      1.0    0.000     0\n",
      "    18    0    10      1.0    0.000     0\n",
      "    19    0    10      1.0    0.000     0\n",
      "    20    0    10      1.0    0.000     0\n",
      "Total extinctions: 0\n",
      "Generation time: 34.268 sec\n",
      "\n",
      " ****** Running generation 1 ****** \n",
      "\n",
      "Population's average fitness: 0.92500 stdev: 0.26339\n",
      "Best fitness: 1.00000 - size: (13, 0) - species 1 - id 1\n",
      "Average adjusted fitness: 0.925\n",
      "Mean genetic distance 3.676, standard deviation 0.747\n",
      "Population of 200 members in 20 species:\n",
      "   ID   age  size  fitness  adj fit  stag\n",
      "  ====  ===  ====  =======  =======  ====\n",
      "     1    1    10      1.0    0.800     1\n",
      "     2    1    10      1.0    1.000     1\n",
      "     3    1    10      1.0    0.900     1\n",
      "     4    1    10      1.0    1.000     1\n",
      "     5    1    10      1.0    1.000     1\n",
      "     6    1    10      1.0    0.800     1\n",
      "     7    1    10      1.0    0.900     1\n",
      "     8    1    10      1.0    1.000     1\n",
      "     9    1    10      1.0    0.800     1\n",
      "    10    1    10      1.0    0.900     1\n",
      "    11    1    10      1.0    0.800     1\n",
      "    12    1    10      1.0    1.000     1\n",
      "    13    1    10      1.0    1.000     1\n",
      "    14    1    10      1.0    1.000     1\n",
      "    15    1    10      1.0    0.900     1\n",
      "    16    1    10      1.0    1.000     1\n",
      "    17    1    10      1.0    1.000     1\n",
      "    18    1    10      1.0    1.000     1\n",
      "    19    1    10      1.0    0.900     1\n",
      "    20    1    10      1.0    0.800     1\n",
      "Total extinctions: 0\n",
      "Generation time: 259.654 sec (146.961 average)\n",
      "\n",
      " ****** Running generation 2 ****** \n",
      "\n",
      "Population's average fitness: 0.92500 stdev: 0.26339\n",
      "Best fitness: 1.00000 - size: (13, 0) - species 1 - id 1\n",
      "Average adjusted fitness: 0.925\n",
      "Mean genetic distance 3.676, standard deviation 0.747\n",
      "Population of 200 members in 20 species:\n",
      "   ID   age  size  fitness  adj fit  stag\n",
      "  ====  ===  ====  =======  =======  ====\n",
      "     1    2    10      1.0    0.800     2\n",
      "     2    2    10      1.0    1.000     2\n",
      "     3    2    10      1.0    0.900     2\n",
      "     4    2    10      1.0    1.000     2\n",
      "     5    2    10      1.0    1.000     2\n",
      "     6    2    10      1.0    0.800     2\n",
      "     7    2    10      1.0    0.900     2\n",
      "     8    2    10      1.0    1.000     2\n",
      "     9    2    10      1.0    0.800     2\n",
      "    10    2    10      1.0    0.900     2\n",
      "    11    2    10      1.0    0.800     2\n",
      "    12    2    10      1.0    1.000     2\n",
      "    13    2    10      1.0    1.000     2\n",
      "    14    2    10      1.0    1.000     2\n",
      "    15    2    10      1.0    0.900     2\n",
      "    16    2    10      1.0    1.000     2\n",
      "    17    2    10      1.0    1.000     2\n",
      "    18    2    10      1.0    1.000     2\n",
      "    19    2    10      1.0    0.900     2\n",
      "    20    2    10      1.0    0.800     2\n",
      "Total extinctions: 0\n",
      "Generation time: 253.200 sec (182.374 average)\n",
      "Saving checkpoint to neat-checkpoint-2\n",
      "\n",
      " ****** Running generation 3 ****** \n",
      "\n",
      "Population's average fitness: 0.92500 stdev: 0.26339\n",
      "Best fitness: 1.00000 - size: (13, 0) - species 1 - id 1\n",
      "Average adjusted fitness: 0.925\n",
      "Mean genetic distance 3.676, standard deviation 0.747\n",
      "Population of 200 members in 20 species:\n",
      "   ID   age  size  fitness  adj fit  stag\n",
      "  ====  ===  ====  =======  =======  ====\n",
      "     1    3    10      1.0    0.800     3\n",
      "     2    3    10      1.0    1.000     3\n",
      "     3    3    10      1.0    0.900     3\n",
      "     4    3    10      1.0    1.000     3\n",
      "     5    3    10      1.0    1.000     3\n",
      "     6    3    10      1.0    0.800     3\n",
      "     7    3    10      1.0    0.900     3\n",
      "     8    3    10      1.0    1.000     3\n",
      "     9    3    10      1.0    0.800     3\n",
      "    10    3    10      1.0    0.900     3\n",
      "    11    3    10      1.0    0.800     3\n",
      "    12    3    10      1.0    1.000     3\n",
      "    13    3    10      1.0    1.000     3\n",
      "    14    3    10      1.0    1.000     3\n",
      "    15    3    10      1.0    0.900     3\n",
      "    16    3    10      1.0    1.000     3\n",
      "    17    3    10      1.0    1.000     3\n",
      "    18    3    10      1.0    1.000     3\n",
      "    19    3    10      1.0    0.900     3\n",
      "    20    3    10      1.0    0.800     3\n",
      "Total extinctions: 0\n",
      "Generation time: 243.453 sec (197.644 average)\n",
      "\n",
      " ****** Running generation 4 ****** \n",
      "\n",
      "Population's average fitness: 0.92500 stdev: 0.26339\n",
      "Best fitness: 1.00000 - size: (13, 0) - species 1 - id 1\n",
      "Average adjusted fitness: 0.925\n",
      "Mean genetic distance 3.676, standard deviation 0.747\n",
      "Population of 200 members in 20 species:\n",
      "   ID   age  size  fitness  adj fit  stag\n",
      "  ====  ===  ====  =======  =======  ====\n",
      "     1    4    10      1.0    0.800     4\n",
      "     2    4    10      1.0    1.000     4\n",
      "     3    4    10      1.0    0.900     4\n",
      "     4    4    10      1.0    1.000     4\n",
      "     5    4    10      1.0    1.000     4\n",
      "     6    4    10      1.0    0.800     4\n",
      "     7    4    10      1.0    0.900     4\n",
      "     8    4    10      1.0    1.000     4\n",
      "     9    4    10      1.0    0.800     4\n",
      "    10    4    10      1.0    0.900     4\n",
      "    11    4    10      1.0    0.800     4\n",
      "    12    4    10      1.0    1.000     4\n",
      "    13    4    10      1.0    1.000     4\n",
      "    14    4    10      1.0    1.000     4\n",
      "    15    4    10      1.0    0.900     4\n",
      "    16    4    10      1.0    1.000     4\n",
      "    17    4    10      1.0    1.000     4\n",
      "    18    4    10      1.0    1.000     4\n",
      "    19    4    10      1.0    0.900     4\n",
      "    20    4    10      1.0    0.800     4\n",
      "Total extinctions: 0\n",
      "Generation time: 239.127 sec (205.940 average)\n",
      "Saving checkpoint to neat-checkpoint-4\n",
      "\n",
      " ****** Running generation 5 ****** \n",
      "\n"
     ]
    }
   ],
   "source": [
    "import tensortrade\n",
    "from neat_trading_strategy import NeatTradingStrategy as TradingStrategy\n",
    "from neat_reward_strategy import NeatRewardStrategy as ProfitStrategy\n",
    "from tensortrade.actions import DiscreteActions\n",
    "from tensortrade.exchanges.simulated import SimulatedExchange as Exchange\n",
    "from tensortrade.features.scalers import MinMaxNormalizer\n",
    "from tensortrade.features import FeaturePipeline\n",
    "from tensortrade.environments import TradingEnvironment as Environment\n",
    "\n",
    "print('fin imports')\n",
    "normalize = MinMaxNormalizer(inplace=True)\n",
    "feature_pipeline = FeaturePipeline(steps=[normalize])\n",
    "\n",
    "reward_scheme = ProfitStrategy()\n",
    "action_scheme = DiscreteActions(n_actions=5, instrument='BTC/USDT')\n",
    "print('fin strats')\n",
    "\n",
    "exchange = Exchange(data_frame=df_train,\n",
    "                    pretransform = True,\n",
    "                    base_instrument='USDT', \n",
    "                    commission_percent=0.075,\n",
    "                    window_size=1,\n",
    "                    max_allowed_slippage_percent=3.0,\n",
    "                    min_order_amount=1E-4,\n",
    "                    min_trade_amount=1E-4,\n",
    "                    observation_columns = df_train.columns\n",
    "                   )\n",
    "print('fin exchange')\n",
    "\n",
    "environment = Environment(exchange=exchange,\n",
    "                                 action_scheme=action_scheme,\n",
    "                                 reward_scheme=reward_scheme,\n",
    "                                 feature_pipeline=feature_pipeline)\n",
    "print('fin environment')\n",
    "print('')\n",
    "\n",
    "segments_in_day = 288\n",
    "days = 7\n",
    "\n",
    "strategy = TradingStrategy(environment=environment,\n",
    "                           pop_size= 100,\n",
    "                           neat_config=config, \n",
    "                           watch_genome_evaluation=False,\n",
    "                           only_show_profitable=False,\n",
    "                           data_frame_window = segments_in_day * days\n",
    "                          )\n",
    "\n",
    "print(\"Running through \", strategy._data_frame_window, ' steps')\n",
    "# cp.run(\"performance, winner, stats = strategy.run(generations=20)\", 'evolution_stats')\n",
    "performance, winner, stats = strategy.run(generations=100)"
   ]
  },
  {
   "cell_type": "markdown",
   "metadata": {},
   "source": [
    "**Evaluate against full dataset**"
   ]
  },
  {
   "cell_type": "code",
   "execution_count": 9,
   "metadata": {},
   "outputs": [],
   "source": [
    " _test_data = df_test[-280*10:90-(280*10)]\n",
    "exchange = Exchange(data_frame=_test_data,\n",
    "                    pretransform = True,\n",
    "                    base_instrument='USDT', \n",
    "                    commission_percent=0.075,\n",
    "                    window_size=1,\n",
    "                    max_allowed_slippage_percent=3.0,\n",
    "                    min_order_amount=1E-4,\n",
    "                    min_trade_amount=1E-4,\n",
    "                    observation_columns = df_test.columns\n",
    "                   )\n",
    "environment = Environment(exchange=exchange,\n",
    "                                 action_scheme=action_scheme,\n",
    "                                 reward_scheme=reward_scheme,\n",
    "                                 feature_pipeline=feature_pipeline)\n",
    "\n",
    "environment.reset()\n",
    "# from neat_trading_strategy import NeatTradingStrategy as TradingStrategy\n",
    "# exchange.balance = 100000\n",
    "strategy = strategy = TradingStrategy(environment=environment, \n",
    "                           neat_config=config, \n",
    "                           watch_genome_evaluation=True,\n",
    "                           only_show_profitable=False,\n",
    "                           full_evaluation=True\n",
    "                          )\n",
    "# TradingStrategy(environment=environment, watch_genome_evaluation=True, full_evaluation = True, neat_config=config)"
   ]
  },
  {
   "cell_type": "code",
   "execution_count": 10,
   "metadata": {},
   "outputs": [
    {
     "name": "stdout",
     "output_type": "stream",
     "text": [
      "Starting Worth: 100\n",
      "Empty DataFrame\n",
      "Columns: [step, symbol, type, amount, price]\n",
      "Index: []\n",
      "---------------------------\n",
      "-------WE DONE!---------\n",
      "Genome ID:  1\n",
      "Rewards: 1\n",
      "Balance: 0.1100000000000021\n",
      "Net Worth: 100.77583936119998\n",
      "Steps Completed 89\n",
      "Most common action dict_items([('MARKET_BUY', 89)])\n",
      "Number of trades: Counter({<TradeType.MARKET_BUY: 2>: 2})\n"
     ]
    },
    {
     "data": {
      "text/plain": [
       "1.0"
      ]
     },
     "execution_count": 10,
     "metadata": {},
     "output_type": "execute_result"
    }
   ],
   "source": [
    "environment.reset()\n",
    "exchange.reset()\n",
    "exchange._balance = 100\n",
    "print(\"Starting Worth: {}\".format(exchange.net_worth, exchange.balance))\n",
    "print(exchange.trades)\n",
    "strategy.eval_genome(winner, strategy._config)"
   ]
  },
  {
   "cell_type": "code",
   "execution_count": 11,
   "metadata": {},
   "outputs": [],
   "source": [
    "pd.set_option('display.max_colwidth', -1)"
   ]
  },
  {
   "cell_type": "code",
   "execution_count": 12,
   "metadata": {
    "scrolled": true
   },
   "outputs": [
    {
     "data": {
      "text/html": [
       "<div>\n",
       "<style scoped>\n",
       "    .dataframe tbody tr th:only-of-type {\n",
       "        vertical-align: middle;\n",
       "    }\n",
       "\n",
       "    .dataframe tbody tr th {\n",
       "        vertical-align: top;\n",
       "    }\n",
       "\n",
       "    .dataframe thead th {\n",
       "        text-align: right;\n",
       "    }\n",
       "</style>\n",
       "<table border=\"1\" class=\"dataframe\">\n",
       "  <thead>\n",
       "    <tr style=\"text-align: right;\">\n",
       "      <th></th>\n",
       "      <th>balance</th>\n",
       "      <th>net_worth</th>\n",
       "      <th>action</th>\n",
       "      <th>step</th>\n",
       "    </tr>\n",
       "  </thead>\n",
       "  <tbody>\n",
       "    <tr>\n",
       "      <th>0</th>\n",
       "      <td>2.31</td>\n",
       "      <td>100.309988</td>\n",
       "      <td>4647d010-0b41-11ea-9dd1-d8cb8a39e9e7: TradeType.MARKET_BUY 0.0123821 units of BTC for 7883.84 each. Total:97.69 Comission:0.07@0.00075</td>\n",
       "      <td>0</td>\n",
       "    </tr>\n",
       "    <tr>\n",
       "      <th>1</th>\n",
       "      <td>0.11</td>\n",
       "      <td>100.358550</td>\n",
       "      <td>4649a4de-0b41-11ea-9195-d8cb8a39e9e7: TradeType.MARKET_BUY 0.00028607 units of BTC for 7692.11 each. Total:2.2 Comission:0.0@0.00075</td>\n",
       "      <td>1</td>\n",
       "    </tr>\n",
       "  </tbody>\n",
       "</table>\n",
       "</div>"
      ],
      "text/plain": [
       "   balance   net_worth  \\\n",
       "0  2.31     100.309988   \n",
       "1  0.11     100.358550   \n",
       "\n",
       "                                                                                                                                   action  \\\n",
       "0  4647d010-0b41-11ea-9dd1-d8cb8a39e9e7: TradeType.MARKET_BUY 0.0123821 units of BTC for 7883.84 each. Total:97.69 Comission:0.07@0.00075   \n",
       "1  4649a4de-0b41-11ea-9195-d8cb8a39e9e7: TradeType.MARKET_BUY 0.00028607 units of BTC for 7692.11 each. Total:2.2 Comission:0.0@0.00075     \n",
       "\n",
       "  step  \n",
       "0  0    \n",
       "1  1    "
      ]
     },
     "execution_count": 12,
     "metadata": {},
     "output_type": "execute_result"
    }
   ],
   "source": [
    "exchange.performance.tail()"
   ]
  },
  {
   "cell_type": "code",
   "execution_count": 13,
   "metadata": {},
   "outputs": [
    {
     "data": {
      "text/html": [
       "<div>\n",
       "<style scoped>\n",
       "    .dataframe tbody tr th:only-of-type {\n",
       "        vertical-align: middle;\n",
       "    }\n",
       "\n",
       "    .dataframe tbody tr th {\n",
       "        vertical-align: top;\n",
       "    }\n",
       "\n",
       "    .dataframe thead th {\n",
       "        text-align: right;\n",
       "    }\n",
       "</style>\n",
       "<table border=\"1\" class=\"dataframe\">\n",
       "  <thead>\n",
       "    <tr style=\"text-align: right;\">\n",
       "      <th></th>\n",
       "      <th>step</th>\n",
       "      <th>symbol</th>\n",
       "      <th>type</th>\n",
       "      <th>amount</th>\n",
       "      <th>price</th>\n",
       "      <th>index</th>\n",
       "    </tr>\n",
       "  </thead>\n",
       "  <tbody>\n",
       "    <tr>\n",
       "      <th>0</th>\n",
       "      <td>0</td>\n",
       "      <td>BTC</td>\n",
       "      <td>TradeType.MARKET_BUY</td>\n",
       "      <td>0.012382</td>\n",
       "      <td>97.69</td>\n",
       "      <td>open</td>\n",
       "    </tr>\n",
       "    <tr>\n",
       "      <th>1</th>\n",
       "      <td>1</td>\n",
       "      <td>BTC</td>\n",
       "      <td>TradeType.MARKET_BUY</td>\n",
       "      <td>0.000286</td>\n",
       "      <td>2.20</td>\n",
       "      <td>open</td>\n",
       "    </tr>\n",
       "  </tbody>\n",
       "</table>\n",
       "</div>"
      ],
      "text/plain": [
       "  step symbol                  type    amount  price index\n",
       "0  0    BTC    TradeType.MARKET_BUY  0.012382  97.69  open\n",
       "1  1    BTC    TradeType.MARKET_BUY  0.000286  2.20   open"
      ]
     },
     "execution_count": 13,
     "metadata": {},
     "output_type": "execute_result"
    }
   ],
   "source": [
    "exchange.trades.tail()"
   ]
  },
  {
   "cell_type": "code",
   "execution_count": 14,
   "metadata": {},
   "outputs": [
    {
     "data": {
      "text/plain": [
       "<matplotlib.legend.Legend at 0x238aa70ddc8>"
      ]
     },
     "execution_count": 14,
     "metadata": {},
     "output_type": "execute_result"
    },
    {
     "data": {
      "image/png": "[encoded data removed]",
      "text/plain": [
       "<Figure size 1584x576 with 2 Axes>"
      ]
     },
     "metadata": {
      "needs_background": "light"
     },
     "output_type": "display_data"
    }
   ],
   "source": [
    "ax = plt.subplot(211)\n",
    "exchange.performance.net_worth.plot(figsize=(22,8), label='net worth', title='Net Worth')\n",
    "exchange.performance['com'] = exchange.trades.price*0.00075\n",
    "ax2 = plt.subplot(212, sharex=ax)\n",
    "exchange.performance.com.plot(title='Commissions')\n",
    "plt.legend()"
   ]
  },
  {
   "cell_type": "code",
   "execution_count": 15,
   "metadata": {
    "scrolled": false
   },
   "outputs": [
    {
     "name": "stdout",
     "output_type": "stream",
     "text": [
      "Index(['open', 'high', 'low', 'close', 'volume', 'momentum_rsi', 'adx',\n",
      "       'adx_long', 'adx_pos', 'adx_neg', 'trend_ema_fast', 'trend_ema_slow'],\n",
      "      dtype='object')\n"
     ]
    },
    {
     "data": {
      "text/plain": [
       "<matplotlib.legend.Legend at 0x238aa658f88>"
      ]
     },
     "execution_count": 15,
     "metadata": {},
     "output_type": "execute_result"
    },
    {
     "data": {
      "image/png": "[encoded data removed]",
      "text/plain": [
       "<Figure size 1584x576 with 3 Axes>"
      ]
     },
     "metadata": {
      "needs_background": "light"
     },
     "output_type": "display_data"
    }
   ],
   "source": [
    "wins = 0\n",
    "losses = 0 \n",
    "ax = plt.subplot(311)\n",
    "\n",
    "exchange._price_history.plot(figsize=(22,8), label='actual price')\n",
    "print(_test_data.columns)\n",
    "_test_data.trend_ema_fast.plot(label='fast ema')\n",
    "_test_data.trend_ema_slow.plot(label='slow ema')\n",
    "\n",
    "# print(exchange._price_history.head())\n",
    "# print(exchange.trades.head())\n",
    "# print(exchange.performance.head())\n",
    "for idx,trade in exchange.trades.iterrows():\n",
    "    price_at_trade = exchange._price_history[trade.step-1]\n",
    "    if trade.type.is_buy:\n",
    "        plt.plot(trade.step-1 , price_at_trade, \"b^\")\n",
    "    elif trade.type.is_sell:\n",
    "        the_buy_step = exchange.trades.iloc[idx-1]\n",
    "        profit = trade.price - the_buy_step.price\n",
    "        if profit < 0:\n",
    "            losses +=1\n",
    "            color = '#d62728'\n",
    "            plt.axvspan(the_buy_step.step-1, trade.step-1, alpha= 0.5, facecolor='red')\n",
    "            plt.plot(trade.step-1, price_at_trade, \"rD\")\n",
    "\n",
    "        elif profit >= 0:\n",
    "            wins +=1\n",
    "            color = '#2ca02c'\n",
    "            plt.axvspan(the_buy_step.step-1, trade.step-1, alpha= 0.5, facecolor='green')\n",
    "            plt.plot(trade.step-1, price_at_trade, \"gD\")\n",
    "\n",
    "adx = plt.subplot(312, sharex=ax)\n",
    "_test_data.adx.plot(label='adx')\n",
    "_test_data.adx_pos.plot(label='pos')\n",
    "_test_data.adx_neg.plot(label='neg')\n",
    "_test_data.adx_long.plot(label='long')\n",
    "\n",
    "_test_data.momentum_rsi.plot(label='rsi')\n",
    "\n",
    "ax2 = plt.subplot(313, sharex=adx)\n",
    "exchange.performance.net_worth.plot(title='Net Worth')\n",
    "ax.legend()\n"
   ]
  },
  {
   "cell_type": "code",
   "execution_count": null,
   "metadata": {},
   "outputs": [],
   "source": [
    "print(wins, losses, len(exchange.trades)/2 )\n",
    "\"Win rate {}%\".format((wins/(wins+losses))*100 )\n"
   ]
  },
  {
   "cell_type": "code",
   "execution_count": null,
   "metadata": {},
   "outputs": [],
   "source": [
    "import visualize\n",
    "\n",
    "visualize.plot_stats(stats, ylog=False, view=True)\n"
   ]
  },
  {
   "cell_type": "code",
   "execution_count": null,
   "metadata": {},
   "outputs": [],
   "source": [
    "visualize.plot_species(stats, view=True)"
   ]
  },
  {
   "cell_type": "code",
   "execution_count": null,
   "metadata": {
    "scrolled": false
   },
   "outputs": [],
   "source": [
    "visualize.draw_net(strategy._config, winner, False)\n"
   ]
  },
  {
   "cell_type": "markdown",
   "metadata": {},
   "source": [
    "**Save Strategy**"
   ]
  },
  {
   "cell_type": "code",
   "execution_count": 96,
   "metadata": {},
   "outputs": [],
   "source": [
    "# winner.key\n",
    "with open(\"winners/winner-{}.bin\".format(winner.key), \"wb\") as f:\n",
    "    pickle.dump(winner, f, 2)\n",
    "with open(\"winners/winner-{}_bak.bin\".format(winner.key), \"wb\") as f:\n",
    "    pickle.dump(winner, f, 2)"
   ]
  }
 ],
 "metadata": {
  "kernelspec": {
   "display_name": "Python [conda env:tt_fresh] *",
   "language": "python",
   "name": "conda-env-tt_fresh-py"
  },
  "language_info": {
   "codemirror_mode": {
    "name": "ipython",
    "version": 3
   },
   "file_extension": ".py",
   "mimetype": "text/x-python",
   "name": "python",
   "nbconvert_exporter": "python",
   "pygments_lexer": "ipython3",
   "version": "3.7.4"
  }
 },
 "nbformat": 4,
 "nbformat_minor": 4
}
