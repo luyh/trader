{
 "cells": [
  {
   "cell_type": "code",
   "execution_count": 1,
   "metadata": {
    "scrolled": true
   },
   "outputs": [
    {
     "name": "stdout",
     "output_type": "stream",
     "text": [
      "Processing c:\\users\\codeninja\\dev\\ta\n",
      "Requirement already satisfied, skipping upgrade: numpy in c:\\users\\codeninja\\appdata\\roaming\\python\\python37\\site-packages (from ta==0.4.7) (1.16.4)\n",
      "Requirement already satisfied, skipping upgrade: pandas in c:\\users\\codeninja\\appdata\\roaming\\python\\python37\\site-packages (from ta==0.4.7) (0.25.0)\n",
      "Requirement already satisfied, skipping upgrade: scikit-learn in c:\\users\\codeninja\\anaconda3\\envs\\tt_fresh\\lib\\site-packages (from ta==0.4.7) (0.21.3)\n",
      "Requirement already satisfied, skipping upgrade: python-dateutil>=2.6.1 in c:\\users\\codeninja\\anaconda3\\envs\\tt_fresh\\lib\\site-packages (from pandas->ta==0.4.7) (2.8.0)\n",
      "Requirement already satisfied, skipping upgrade: pytz>=2017.2 in c:\\users\\codeninja\\anaconda3\\envs\\tt_fresh\\lib\\site-packages (from pandas->ta==0.4.7) (2019.3)\n",
      "Requirement already satisfied, skipping upgrade: joblib>=0.11 in c:\\users\\codeninja\\anaconda3\\envs\\tt_fresh\\lib\\site-packages (from scikit-learn->ta==0.4.7) (0.14.0)\n",
      "Requirement already satisfied, skipping upgrade: scipy>=0.17.0 in c:\\users\\codeninja\\anaconda3\\envs\\tt_fresh\\lib\\site-packages (from scikit-learn->ta==0.4.7) (1.3.1)\n",
      "Requirement already satisfied, skipping upgrade: six>=1.5 in c:\\users\\codeninja\\anaconda3\\envs\\tt_fresh\\lib\\site-packages (from python-dateutil>=2.6.1->pandas->ta==0.4.7) (1.12.0)\n",
      "Building wheels for collected packages: ta\n",
      "  Building wheel for ta (setup.py): started\n",
      "  Building wheel for ta (setup.py): finished with status 'done'\n",
      "  Created wheel for ta: filename=ta-0.4.7-cp37-none-any.whl size=18953 sha256=d62d2ea003a39a7a2244b1aa6e4facf86ced139a9f0b542d1b7c003e89b2db89\n",
      "  Stored in directory: C:\\Users\\CODENI~1\\AppData\\Local\\Temp\\pip-ephem-wheel-cache-mgnp268f\\wheels\\71\\d3\\81\\76a2b4c89b367a05e6c899b7dbeffa9e9a257871c466c4597e\n",
      "Successfully built ta\n",
      "Installing collected packages: ta\n",
      "  Found existing installation: ta 0.4.7\n",
      "    Uninstalling ta-0.4.7:\n",
      "      Successfully uninstalled ta-0.4.7\n",
      "Successfully installed ta-0.4.7\n"
     ]
    }
   ],
   "source": [
    "# !pip install plotly finta matplotlib\n",
    "!pip install ../ta -U\n"
   ]
  },
  {
   "cell_type": "code",
   "execution_count": 2,
   "metadata": {},
   "outputs": [],
   "source": [
    "import numpy as np # linear algebra\n",
    "import pandas as pd # data processing, CSV file I/O (e.g. pd.read_csv)\n",
    "from datetime import datetime\n",
    "import os\n",
    "from pathlib import Path\n",
    "import sys\n",
    "from ta import *\n",
    "import sklearn"
   ]
  },
  {
   "cell_type": "code",
   "execution_count": 3,
   "metadata": {},
   "outputs": [],
   "source": [
    "# Shared Methods \n",
    "# define a conversion function for the native timestamps in the csv file\n",
    "def dateparse (time_in_miliseconds):\n",
    "    return datetime.fromtimestamp(int(time_in_miliseconds)/1000)"
   ]
  },
  {
   "cell_type": "markdown",
   "metadata": {},
   "source": [
    "Open the data file"
   ]
  },
  {
   "cell_type": "code",
   "execution_count": 4,
   "metadata": {
    "_cell_guid": "b1076dfc-b9ad-4769-8c92-a6c4dae69d19",
    "_uuid": "8f2839f25d086af736a60e9eeb907d3b93b6e0e5",
    "scrolled": true
   },
   "outputs": [
    {
     "name": "stdout",
     "output_type": "stream",
     "text": [
      "Data listing...\n",
      "Index(['open', 'high', 'low', 'close', 'volume'], dtype='object')\n",
      "Total null open prices: 0\n",
      "                            open     high      low    close      volume\n",
      "2018-02-09 03:59:14.789  7789.90  8230.46  7789.90  8230.46  148.475418\n",
      "2018-02-09 04:00:14.789  8230.46  8317.74  8230.45  8317.74   91.494282\n",
      "2018-02-09 04:01:14.789  8304.00  8369.00  8304.00  8350.00  131.872916\n",
      "2018-02-09 04:02:14.789  8346.50  8380.00  8330.00  8380.00   84.544616\n",
      "2018-02-09 04:03:14.789  8379.00  8390.00  8348.00  8360.02  112.940304\n",
      "(902000, 5)\n"
     ]
    }
   ],
   "source": [
    "print('Data listing...')\n",
    "import os\n",
    "\n",
    "# read in the data and apply our conversion function, this spits out a DataFrame with the DateTimeIndex already in place\n",
    "data = pd.read_csv('../CCXT-Historical-Data/data/raw/binance/btc_usdt_1m.csv',\n",
    "                   names = ['open','high','low','close','volume'],\n",
    "                   dtype={'open': np.float64, 'high':np.float64, 'low':np.float64, 'volume':np.float64},\n",
    "                   parse_dates=True,\n",
    "                   date_parser=dateparse, \n",
    "                   index_col=[0])\n",
    "\n",
    "print(data.columns)\n",
    "print('Total null open prices: %s' % data['open'].isnull().sum())\n",
    "print(data.head())\n",
    "print(data.shape)\n",
    "\n",
    "# Remove duplicated indexes and keep the first record\n",
    "data = data.reset_index().drop_duplicates(subset='index', keep='first').set_index('index')\n"
   ]
  },
  {
   "cell_type": "code",
   "execution_count": 12,
   "metadata": {
    "scrolled": true
   },
   "outputs": [
    {
     "name": "stdout",
     "output_type": "stream",
     "text": [
      "Resample data into 1h timestamps\n",
      "(15021, 5)\n"
     ]
    }
   ],
   "source": [
    "print(\"Resample data into 1h timestamps\")\n",
    "df = data.resample('1h').agg({\n",
    "    'open': \"first\", \n",
    "    \"high\": 'max', \n",
    "    'low': 'min', \n",
    "    'close': 'last', \n",
    "    'volume': 'sum', \n",
    "    }).fillna(method='ffill')\n",
    "print(df.shape)\n",
    "df2 = data.copy(deep=True)\n",
    "\n",
    "df = adx_neg(df2[\"high\"], df2[\"low\"], df2[\"close\"], n=14, fillna='ffill')\n",
    "# df = add_all_ta_features(df2, \"open\", \"high\", \"low\", \"close\", \"volume\", fillna='ffill')"
   ]
  },
  {
   "cell_type": "code",
   "execution_count": 14,
   "metadata": {},
   "outputs": [
    {
     "data": {
      "text/plain": [
       "index\n",
       "2018-02-09 03:59:14.789     0.000000\n",
       "2018-02-09 04:00:14.789     0.000000\n",
       "2018-02-09 04:01:14.789     0.000000\n",
       "2018-02-09 04:02:14.789     0.000000\n",
       "2018-02-09 04:03:14.789     0.000000\n",
       "                             ...    \n",
       "2018-04-19 16:23:00.000     7.283440\n",
       "2018-04-19 16:24:00.000     9.032236\n",
       "2018-04-19 16:25:00.000     8.732103\n",
       "2018-04-19 16:26:00.000     9.293338\n",
       "2018-04-19 16:27:00.000    11.244207\n",
       "Name: adx_neg, Length: 100000, dtype: float64"
      ]
     },
     "execution_count": 14,
     "metadata": {},
     "output_type": "execute_result"
    }
   ],
   "source": [
    "df"
   ]
  },
  {
   "cell_type": "markdown",
   "metadata": {},
   "source": [
    "**Cleanup Data & Add New Inputs**\n",
    "\n",
    "We'll calculate the volume currency, and append indicator columns"
   ]
  },
  {
   "cell_type": "code",
   "execution_count": null,
   "metadata": {},
   "outputs": [],
   "source": [
    "print('Total null open prices: %s' % df.isnull().sum())\n",
    "print(df.head())"
   ]
  },
  {
   "cell_type": "code",
   "execution_count": null,
   "metadata": {},
   "outputs": [],
   "source": [
    "p = Path(\"./data/processed/binance/\")\n",
    "p.mkdir(parents=True, exist_ok=True)\n",
    "full_path = p / 'btc_usdt_1h.csv'\n",
    "    \n",
    "df.to_csv(full_path, index=True)\n",
    "print('Created', full_path)"
   ]
  },
  {
   "cell_type": "code",
   "execution_count": null,
   "metadata": {},
   "outputs": [],
   "source": []
  }
 ],
 "metadata": {
  "kernelspec": {
   "display_name": "Python [conda env:tt_fresh] *",
   "language": "python",
   "name": "conda-env-tt_fresh-py"
  },
  "language_info": {
   "codemirror_mode": {
    "name": "ipython",
    "version": 3
   },
   "file_extension": ".py",
   "mimetype": "text/x-python",
   "name": "python",
   "nbconvert_exporter": "python",
   "pygments_lexer": "ipython3",
   "version": "3.7.4"
  }
 },
 "nbformat": 4,
 "nbformat_minor": 1
}
