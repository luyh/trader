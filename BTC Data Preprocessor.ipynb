{
 "cells": [
  {
   "cell_type": "code",
   "execution_count": 1,
   "metadata": {
    "scrolled": true
   },
   "outputs": [
    {
     "name": "stdout",
     "output_type": "stream",
     "text": [
      "Processing c:\\users\\codeninja\\dev\\ta\n",
      "Requirement already satisfied, skipping upgrade: numpy in c:\\users\\codeninja\\appdata\\roaming\\python\\python37\\site-packages (from ta==0.4.7) (1.16.4)\n",
      "Requirement already satisfied, skipping upgrade: pandas in c:\\users\\codeninja\\appdata\\roaming\\python\\python37\\site-packages (from ta==0.4.7) (0.25.0)\n",
      "Requirement already satisfied, skipping upgrade: scikit-learn in c:\\users\\codeninja\\anaconda3\\envs\\tt_fresh\\lib\\site-packages (from ta==0.4.7) (0.21.3)\n",
      "Requirement already satisfied, skipping upgrade: python-dateutil>=2.6.1 in c:\\users\\codeninja\\anaconda3\\envs\\tt_fresh\\lib\\site-packages (from pandas->ta==0.4.7) (2.8.0)\n",
      "Requirement already satisfied, skipping upgrade: pytz>=2017.2 in c:\\users\\codeninja\\anaconda3\\envs\\tt_fresh\\lib\\site-packages (from pandas->ta==0.4.7) (2019.3)\n",
      "Requirement already satisfied, skipping upgrade: joblib>=0.11 in c:\\users\\codeninja\\anaconda3\\envs\\tt_fresh\\lib\\site-packages (from scikit-learn->ta==0.4.7) (0.14.0)\n",
      "Requirement already satisfied, skipping upgrade: scipy>=0.17.0 in c:\\users\\codeninja\\anaconda3\\envs\\tt_fresh\\lib\\site-packages (from scikit-learn->ta==0.4.7) (1.3.1)\n",
      "Requirement already satisfied, skipping upgrade: six>=1.5 in c:\\users\\codeninja\\anaconda3\\envs\\tt_fresh\\lib\\site-packages (from python-dateutil>=2.6.1->pandas->ta==0.4.7) (1.12.0)\n",
      "Building wheels for collected packages: ta\n",
      "  Building wheel for ta (setup.py): started\n",
      "  Building wheel for ta (setup.py): finished with status 'done'\n",
      "  Created wheel for ta: filename=ta-0.4.7-cp37-none-any.whl size=18775 sha256=2a414af2bd4a53c84fd3648264d7f0fa42ddc0d58158177a918a26f8e08a8e10\n",
      "  Stored in directory: C:\\Users\\CODENI~1\\AppData\\Local\\Temp\\pip-ephem-wheel-cache-2thzm6d2\\wheels\\71\\d3\\81\\76a2b4c89b367a05e6c899b7dbeffa9e9a257871c466c4597e\n",
      "Successfully built ta\n",
      "Installing collected packages: ta\n",
      "  Found existing installation: ta 0.4.7\n",
      "    Uninstalling ta-0.4.7:\n",
      "      Successfully uninstalled ta-0.4.7\n",
      "Successfully installed ta-0.4.7\n"
     ]
    }
   ],
   "source": [
    "# !pip install plotly finta matplotlib\n",
    "!pip install ../ta -U\n"
   ]
  },
  {
   "cell_type": "code",
   "execution_count": 2,
   "metadata": {},
   "outputs": [],
   "source": [
    "import numpy as np # linear algebra\n",
    "import pandas as pd # data processing, CSV file I/O (e.g. pd.read_csv)\n",
    "from datetime import datetime\n",
    "import os\n",
    "from pathlib import Path\n",
    "import sys\n",
    "from ta import *\n",
    "import sklearn"
   ]
  },
  {
   "cell_type": "code",
   "execution_count": 3,
   "metadata": {},
   "outputs": [],
   "source": [
    "# Shared Methods \n",
    "# define a conversion function for the native timestamps in the csv file\n",
    "def dateparse (time_in_miliseconds):\n",
    "    return datetime.fromtimestamp(int(time_in_miliseconds)/1000)"
   ]
  },
  {
   "cell_type": "markdown",
   "metadata": {},
   "source": [
    "Open the data file"
   ]
  },
  {
   "cell_type": "code",
   "execution_count": 4,
   "metadata": {
    "_cell_guid": "b1076dfc-b9ad-4769-8c92-a6c4dae69d19",
    "_uuid": "8f2839f25d086af736a60e9eeb907d3b93b6e0e5",
    "scrolled": false
   },
   "outputs": [
    {
     "name": "stdout",
     "output_type": "stream",
     "text": [
      "Data listing...\n",
      "Index(['open', 'high', 'low', 'close', 'volume'], dtype='object')\n",
      "Total null open prices: 0\n",
      "                            open     high      low    close      volume\n",
      "2018-02-09 03:59:14.789  7789.90  8230.46  7789.90  8230.46  148.475418\n",
      "2018-02-09 04:00:14.789  8230.46  8317.74  8230.45  8317.74   91.494282\n",
      "2018-02-09 04:01:14.789  8304.00  8369.00  8304.00  8350.00  131.872916\n",
      "2018-02-09 04:02:14.789  8346.50  8380.00  8330.00  8380.00   84.544616\n",
      "2018-02-09 04:03:14.789  8379.00  8390.00  8348.00  8360.02  112.940304\n",
      "(902000, 5)\n"
     ]
    }
   ],
   "source": [
    "print('Data listing...')\n",
    "import os\n",
    "\n",
    "# read in the data and apply our conversion function, this spits out a DataFrame with the DateTimeIndex already in place\n",
    "data = pd.read_csv('../CCXT-Historical-Data/data/raw/binance/btc_usdt_1m.csv',\n",
    "                   names = ['open','high','low','close','volume'],\n",
    "                   dtype={'open': np.float64, 'high':np.float64, 'low':np.float64, 'volume':np.float64},\n",
    "                   parse_dates=True,\n",
    "                   date_parser=dateparse, \n",
    "                   index_col=[0])\n",
    "\n",
    "print(data.columns)\n",
    "print('Total null open prices: %s' % data['open'].isnull().sum())\n",
    "print(data.head())\n",
    "print(data.shape)\n",
    "\n",
    "# Remove duplicated indexes and keep the first record\n",
    "data = data.reset_index().drop_duplicates(subset='index', keep='first').set_index('index')\n"
   ]
  },
  {
   "cell_type": "code",
   "execution_count": 5,
   "metadata": {},
   "outputs": [],
   "source": [
    "df = data.resample('1h').agg({\n",
    "    'open': \"first\", \n",
    "    \"high\": 'max', \n",
    "    'low': 'min', \n",
    "    'close': 'last', \n",
    "    'volume': 'sum', \n",
    "    }).fillna(method='ffill')"
   ]
  },
  {
   "cell_type": "code",
   "execution_count": 6,
   "metadata": {
    "scrolled": true
   },
   "outputs": [
    {
     "name": "stdout",
     "output_type": "stream",
     "text": [
      "Resample data into 1h timestamps\n",
      "(15021, 5)\n"
     ]
    }
   ],
   "source": [
    "print(\"Resample data into 1h timestamps\")\n",
    "df = data.resample('1h').agg({\n",
    "    'open': \"first\", \n",
    "    \"high\": 'max', \n",
    "    'low': 'min', \n",
    "    'close': 'last', \n",
    "    'volume': 'sum', \n",
    "    }).fillna(method='ffill')\n",
    "\n",
    "df2 = data.copy(deep=True)\n",
    "# adx(df[\"high\"], df[\"low\"], df[\"close\"], n=14, fillna='ffill')\n",
    "# adx_neg(df[\"high\"], df[\"low\"], df[\"close\"], n=14, fillna='ffill')\n",
    "# adx_pos(df[\"high\"], df[\"low\"], df[\"close\"], n=14, fillna='ffill')\n",
    "df = add_all_ta_features(df, \"open\", \"high\", \"low\", \"close\", \"volume\", fillna='ffill')"
   ]
  },
  {
   "cell_type": "code",
   "execution_count": 10,
   "metadata": {},
   "outputs": [
    {
     "data": {
      "text/plain": [
       "Index(['open', 'high', 'low', 'close', 'volume', 'volume_adi', 'volume_obv',\n",
       "       'volume_cmf', 'volume_fi', 'volume_em', 'volume_vpt', 'volume_nvi',\n",
       "       'volatility_atr', 'volatility_bbh', 'volatility_bbl', 'volatility_bbm',\n",
       "       'volatility_bbhi', 'volatility_bbli', 'volatility_kcc',\n",
       "       'volatility_kch', 'volatility_kcl', 'volatility_kchi',\n",
       "       'volatility_kcli', 'volatility_dch', 'volatility_dcl',\n",
       "       'volatility_dchi', 'volatility_dcli', 'trend_macd', 'trend_macd_signal',\n",
       "       'trend_macd_diff', 'trend_ema_fast', 'trend_ema_slow', 'trend_adx',\n",
       "       'trend_adx_pos', 'trend_adx_neg', 'trend_vortex_ind_pos',\n",
       "       'trend_vortex_ind_neg', 'trend_vortex_diff', 'trend_trix',\n",
       "       'trend_mass_index', 'trend_cci', 'trend_dpo', 'trend_kst',\n",
       "       'trend_kst_sig', 'trend_kst_diff', 'trend_ichimoku_a',\n",
       "       'trend_ichimoku_b', 'trend_visual_ichimoku_a',\n",
       "       'trend_visual_ichimoku_b', 'trend_aroon_up', 'trend_aroon_down',\n",
       "       'trend_aroon_ind', 'momentum_rsi', 'momentum_mfi', 'momentum_tsi',\n",
       "       'momentum_uo', 'momentum_stoch', 'momentum_stoch_signal', 'momentum_wr',\n",
       "       'momentum_ao', 'momentum_kama', 'others_dr', 'others_dlr', 'others_cr'],\n",
       "      dtype='object')"
      ]
     },
     "execution_count": 10,
     "metadata": {},
     "output_type": "execute_result"
    }
   ],
   "source": [
    "df.columns"
   ]
  },
  {
   "cell_type": "markdown",
   "metadata": {},
   "source": [
    "**Cleanup Data & Add New Inputs**\n",
    "\n",
    "We'll calculate the volume currency, and append indicator columns"
   ]
  },
  {
   "cell_type": "code",
   "execution_count": 12,
   "metadata": {},
   "outputs": [
    {
     "name": "stdout",
     "output_type": "stream",
     "text": [
      "Total null open prices: open             0\n",
      "high             0\n",
      "low              0\n",
      "close            0\n",
      "volume           0\n",
      "                ..\n",
      "momentum_ao      0\n",
      "momentum_kama    0\n",
      "others_dr        0\n",
      "others_dlr       0\n",
      "others_cr        0\n",
      "Length: 64, dtype: int64\n"
     ]
    },
    {
     "data": {
      "text/html": [
       "<div>\n",
       "<style scoped>\n",
       "    .dataframe tbody tr th:only-of-type {\n",
       "        vertical-align: middle;\n",
       "    }\n",
       "\n",
       "    .dataframe tbody tr th {\n",
       "        vertical-align: top;\n",
       "    }\n",
       "\n",
       "    .dataframe thead th {\n",
       "        text-align: right;\n",
       "    }\n",
       "</style>\n",
       "<table border=\"1\" class=\"dataframe\">\n",
       "  <thead>\n",
       "    <tr style=\"text-align: right;\">\n",
       "      <th></th>\n",
       "      <th>open</th>\n",
       "      <th>high</th>\n",
       "      <th>low</th>\n",
       "      <th>close</th>\n",
       "      <th>volume</th>\n",
       "      <th>volume_adi</th>\n",
       "      <th>volume_obv</th>\n",
       "      <th>volume_cmf</th>\n",
       "      <th>volume_fi</th>\n",
       "      <th>volume_em</th>\n",
       "      <th>...</th>\n",
       "      <th>momentum_tsi</th>\n",
       "      <th>momentum_uo</th>\n",
       "      <th>momentum_stoch</th>\n",
       "      <th>momentum_stoch_signal</th>\n",
       "      <th>momentum_wr</th>\n",
       "      <th>momentum_ao</th>\n",
       "      <th>momentum_kama</th>\n",
       "      <th>others_dr</th>\n",
       "      <th>others_dlr</th>\n",
       "      <th>others_cr</th>\n",
       "    </tr>\n",
       "    <tr>\n",
       "      <th>index</th>\n",
       "      <th></th>\n",
       "      <th></th>\n",
       "      <th></th>\n",
       "      <th></th>\n",
       "      <th></th>\n",
       "      <th></th>\n",
       "      <th></th>\n",
       "      <th></th>\n",
       "      <th></th>\n",
       "      <th></th>\n",
       "      <th></th>\n",
       "      <th></th>\n",
       "      <th></th>\n",
       "      <th></th>\n",
       "      <th></th>\n",
       "      <th></th>\n",
       "      <th></th>\n",
       "      <th></th>\n",
       "      <th></th>\n",
       "      <th></th>\n",
       "      <th></th>\n",
       "    </tr>\n",
       "  </thead>\n",
       "  <tbody>\n",
       "    <tr>\n",
       "      <th>2018-02-09 03:00:00</th>\n",
       "      <td>7789.90</td>\n",
       "      <td>8230.46</td>\n",
       "      <td>7789.90</td>\n",
       "      <td>8230.46</td>\n",
       "      <td>148.475418</td>\n",
       "      <td>211.584960</td>\n",
       "      <td>0.000000</td>\n",
       "      <td>1.000000</td>\n",
       "      <td>0.000000</td>\n",
       "      <td>0.000000</td>\n",
       "      <td>...</td>\n",
       "      <td>100.000000</td>\n",
       "      <td>100.000000</td>\n",
       "      <td>100.000000</td>\n",
       "      <td>100.000000</td>\n",
       "      <td>-0.000000</td>\n",
       "      <td>0.0</td>\n",
       "      <td>8230.46</td>\n",
       "      <td>15.515512</td>\n",
       "      <td>0.000000</td>\n",
       "      <td>0.000000</td>\n",
       "    </tr>\n",
       "    <tr>\n",
       "      <th>2018-02-09 04:00:00</th>\n",
       "      <td>8230.46</td>\n",
       "      <td>8390.00</td>\n",
       "      <td>8166.00</td>\n",
       "      <td>8264.99</td>\n",
       "      <td>1984.058640</td>\n",
       "      <td>-81.994251</td>\n",
       "      <td>1984.058640</td>\n",
       "      <td>-0.038449</td>\n",
       "      <td>0.000000</td>\n",
       "      <td>30.236848</td>\n",
       "      <td>...</td>\n",
       "      <td>100.000000</td>\n",
       "      <td>90.597058</td>\n",
       "      <td>79.168472</td>\n",
       "      <td>89.584236</td>\n",
       "      <td>-20.831528</td>\n",
       "      <td>0.0</td>\n",
       "      <td>8264.99</td>\n",
       "      <td>0.419539</td>\n",
       "      <td>0.418662</td>\n",
       "      <td>0.419539</td>\n",
       "    </tr>\n",
       "    <tr>\n",
       "      <th>2018-02-09 05:00:00</th>\n",
       "      <td>8258.10</td>\n",
       "      <td>8395.00</td>\n",
       "      <td>8227.82</td>\n",
       "      <td>8288.03</td>\n",
       "      <td>1351.854008</td>\n",
       "      <td>-608.581246</td>\n",
       "      <td>3335.912648</td>\n",
       "      <td>-0.132048</td>\n",
       "      <td>69278.505426</td>\n",
       "      <td>17.184285</td>\n",
       "      <td>...</td>\n",
       "      <td>100.000000</td>\n",
       "      <td>84.500128</td>\n",
       "      <td>82.321930</td>\n",
       "      <td>87.163467</td>\n",
       "      <td>-17.678070</td>\n",
       "      <td>0.0</td>\n",
       "      <td>8288.03</td>\n",
       "      <td>0.278766</td>\n",
       "      <td>0.278378</td>\n",
       "      <td>0.699475</td>\n",
       "    </tr>\n",
       "    <tr>\n",
       "      <th>2018-02-09 06:00:00</th>\n",
       "      <td>8288.03</td>\n",
       "      <td>8300.00</td>\n",
       "      <td>8201.95</td>\n",
       "      <td>8241.00</td>\n",
       "      <td>1003.249556</td>\n",
       "      <td>-582.240375</td>\n",
       "      <td>2332.663092</td>\n",
       "      <td>-0.148014</td>\n",
       "      <td>23529.609925</td>\n",
       "      <td>9.487370</td>\n",
       "      <td>...</td>\n",
       "      <td>98.755190</td>\n",
       "      <td>81.753394</td>\n",
       "      <td>74.549661</td>\n",
       "      <td>78.680021</td>\n",
       "      <td>-25.450339</td>\n",
       "      <td>0.0</td>\n",
       "      <td>8241.00</td>\n",
       "      <td>-0.567445</td>\n",
       "      <td>-0.569061</td>\n",
       "      <td>0.128061</td>\n",
       "    </tr>\n",
       "    <tr>\n",
       "      <th>2018-02-09 07:00:00</th>\n",
       "      <td>8241.00</td>\n",
       "      <td>8340.00</td>\n",
       "      <td>8225.00</td>\n",
       "      <td>8300.00</td>\n",
       "      <td>1170.145293</td>\n",
       "      <td>152.002378</td>\n",
       "      <td>3502.808385</td>\n",
       "      <td>-0.054457</td>\n",
       "      <td>-2175.053319</td>\n",
       "      <td>7.890084</td>\n",
       "      <td>...</td>\n",
       "      <td>97.964632</td>\n",
       "      <td>80.641133</td>\n",
       "      <td>84.300116</td>\n",
       "      <td>80.390569</td>\n",
       "      <td>-15.699884</td>\n",
       "      <td>0.0</td>\n",
       "      <td>8300.00</td>\n",
       "      <td>0.715933</td>\n",
       "      <td>0.713382</td>\n",
       "      <td>0.844910</td>\n",
       "    </tr>\n",
       "  </tbody>\n",
       "</table>\n",
       "<p>5 rows × 64 columns</p>\n",
       "</div>"
      ],
      "text/plain": [
       "                        open     high      low    close       volume  \\\n",
       "index                                                                  \n",
       "2018-02-09 03:00:00  7789.90  8230.46  7789.90  8230.46   148.475418   \n",
       "2018-02-09 04:00:00  8230.46  8390.00  8166.00  8264.99  1984.058640   \n",
       "2018-02-09 05:00:00  8258.10  8395.00  8227.82  8288.03  1351.854008   \n",
       "2018-02-09 06:00:00  8288.03  8300.00  8201.95  8241.00  1003.249556   \n",
       "2018-02-09 07:00:00  8241.00  8340.00  8225.00  8300.00  1170.145293   \n",
       "\n",
       "                     volume_adi   volume_obv  volume_cmf     volume_fi  \\\n",
       "index                                                                    \n",
       "2018-02-09 03:00:00  211.584960     0.000000    1.000000      0.000000   \n",
       "2018-02-09 04:00:00  -81.994251  1984.058640   -0.038449      0.000000   \n",
       "2018-02-09 05:00:00 -608.581246  3335.912648   -0.132048  69278.505426   \n",
       "2018-02-09 06:00:00 -582.240375  2332.663092   -0.148014  23529.609925   \n",
       "2018-02-09 07:00:00  152.002378  3502.808385   -0.054457  -2175.053319   \n",
       "\n",
       "                     volume_em  ...  momentum_tsi  momentum_uo  \\\n",
       "index                           ...                              \n",
       "2018-02-09 03:00:00   0.000000  ...    100.000000   100.000000   \n",
       "2018-02-09 04:00:00  30.236848  ...    100.000000    90.597058   \n",
       "2018-02-09 05:00:00  17.184285  ...    100.000000    84.500128   \n",
       "2018-02-09 06:00:00   9.487370  ...     98.755190    81.753394   \n",
       "2018-02-09 07:00:00   7.890084  ...     97.964632    80.641133   \n",
       "\n",
       "                     momentum_stoch  momentum_stoch_signal  momentum_wr  \\\n",
       "index                                                                     \n",
       "2018-02-09 03:00:00      100.000000             100.000000    -0.000000   \n",
       "2018-02-09 04:00:00       79.168472              89.584236   -20.831528   \n",
       "2018-02-09 05:00:00       82.321930              87.163467   -17.678070   \n",
       "2018-02-09 06:00:00       74.549661              78.680021   -25.450339   \n",
       "2018-02-09 07:00:00       84.300116              80.390569   -15.699884   \n",
       "\n",
       "                     momentum_ao  momentum_kama  others_dr  others_dlr  \\\n",
       "index                                                                    \n",
       "2018-02-09 03:00:00          0.0        8230.46  15.515512    0.000000   \n",
       "2018-02-09 04:00:00          0.0        8264.99   0.419539    0.418662   \n",
       "2018-02-09 05:00:00          0.0        8288.03   0.278766    0.278378   \n",
       "2018-02-09 06:00:00          0.0        8241.00  -0.567445   -0.569061   \n",
       "2018-02-09 07:00:00          0.0        8300.00   0.715933    0.713382   \n",
       "\n",
       "                     others_cr  \n",
       "index                           \n",
       "2018-02-09 03:00:00   0.000000  \n",
       "2018-02-09 04:00:00   0.419539  \n",
       "2018-02-09 05:00:00   0.699475  \n",
       "2018-02-09 06:00:00   0.128061  \n",
       "2018-02-09 07:00:00   0.844910  \n",
       "\n",
       "[5 rows x 64 columns]"
      ]
     },
     "execution_count": 12,
     "metadata": {},
     "output_type": "execute_result"
    }
   ],
   "source": [
    "print('Total null open prices: %s' % df.isnull().sum())\n",
    "df.head()"
   ]
  },
  {
   "cell_type": "code",
   "execution_count": 13,
   "metadata": {},
   "outputs": [
    {
     "name": "stdout",
     "output_type": "stream",
     "text": [
      "Created data\\processed\\binance\\btc_usdt_1h.csv\n"
     ]
    }
   ],
   "source": [
    "p = Path(\"./data/processed/binance/\")\n",
    "p.mkdir(parents=True, exist_ok=True)\n",
    "full_path = p / 'btc_usdt_1h.csv'\n",
    "    \n",
    "df.to_csv(full_path, index=True)\n",
    "print('Created', full_path)"
   ]
  },
  {
   "cell_type": "code",
   "execution_count": null,
   "metadata": {},
   "outputs": [],
   "source": []
  },
  {
   "cell_type": "code",
   "execution_count": null,
   "metadata": {},
   "outputs": [],
   "source": []
  }
 ],
 "metadata": {
  "kernelspec": {
   "display_name": "Python [conda env:tt_fresh] *",
   "language": "python",
   "name": "conda-env-tt_fresh-py"
  },
  "language_info": {
   "codemirror_mode": {
    "name": "ipython",
    "version": 3
   },
   "file_extension": ".py",
   "mimetype": "text/x-python",
   "name": "python",
   "nbconvert_exporter": "python",
   "pygments_lexer": "ipython3",
   "version": "3.7.4"
  }
 },
 "nbformat": 4,
 "nbformat_minor": 1
}
