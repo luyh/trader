{
 "cells": [
  {
   "cell_type": "code",
   "execution_count": 54,
   "metadata": {
    "scrolled": true
   },
   "outputs": [],
   "source": [
    "# !pip install plotly finta matplotlib\n",
    "# !pip install ../forks/ta -U\n"
   ]
  },
  {
   "cell_type": "code",
   "execution_count": 2,
   "metadata": {},
   "outputs": [],
   "source": [
    "import numpy as np # linear algebra\n",
    "import pandas as pd # data processing, CSV file I/O (e.g. pd.read_csv)\n",
    "from datetime import datetime\n",
    "import os\n",
    "from pathlib import Path\n",
    "import sys\n",
    "from ta import *\n",
    "import sklearn"
   ]
  },
  {
   "cell_type": "code",
   "execution_count": 56,
   "metadata": {},
   "outputs": [],
   "source": [
    "# Shared Methods \n",
    "# define a conversion function for the native timestamps in the csv file\n",
    "def dateparse (time_in_miliseconds):\n",
    "    return datetime.fromtimestamp(int(time_in_miliseconds)/1000)"
   ]
  },
  {
   "cell_type": "markdown",
   "metadata": {},
   "source": [
    "Open the data file"
   ]
  },
  {
   "cell_type": "code",
   "execution_count": 79,
   "metadata": {
    "_cell_guid": "b1076dfc-b9ad-4769-8c92-a6c4dae69d19",
    "_uuid": "8f2839f25d086af736a60e9eeb907d3b93b6e0e5",
    "scrolled": false
   },
   "outputs": [
    {
     "name": "stdout",
     "output_type": "stream",
     "text": [
      "Data listing...\n",
      "Index(['open', 'high', 'low', 'close', 'volume'], dtype='object')\n",
      "Total null open prices: 0\n",
      "                            open     high      low    close      volume\n",
      "2018-02-09 03:59:14.789  7789.90  8230.46  7789.90  8230.46  148.475418\n",
      "2018-02-09 04:00:14.789  8230.46  8317.74  8230.45  8317.74   91.494282\n",
      "2018-02-09 04:01:14.789  8304.00  8369.00  8304.00  8350.00  131.872916\n",
      "2018-02-09 04:02:14.789  8346.50  8380.00  8330.00  8380.00   84.544616\n",
      "2018-02-09 04:03:14.789  8379.00  8390.00  8348.00  8360.02  112.940304\n",
      "(902000, 5)\n"
     ]
    }
   ],
   "source": [
    "print('Data listing...')\n",
    "import os\n",
    "\n",
    "# read in the data and apply our conversion function, this spits out a DataFrame with the DateTimeIndex already in place\n",
    "data = pd.read_csv('../CCXT-Historical-Data/data/raw/binance/btc_usdt_1m.csv',\n",
    "                   names = ['open','high','low','close','volume'],\n",
    "                   dtype={'open': np.float64, 'high':np.float64, 'low':np.float64, 'volume':np.float64},\n",
    "                   parse_dates=True,\n",
    "                   date_parser=dateparse, \n",
    "                   index_col=[0])\n",
    "\n",
    "print(data.columns)\n",
    "print('Total null open prices: %s' % data['open'].isnull().sum())\n",
    "print(data.head())\n",
    "print(data.shape)\n",
    "\n",
    "# Remove duplicated indexes and keep the first record\n",
    "data = data.reset_index().drop_duplicates(subset='index', keep='first').set_index('index')\n"
   ]
  },
  {
   "cell_type": "markdown",
   "metadata": {},
   "source": [
    "**Cleanup Data & Add New Inputs**\n",
    "\n",
    "We'll calculate the volume currency, and append indicator columns"
   ]
  },
  {
   "cell_type": "code",
   "execution_count": 91,
   "metadata": {},
   "outputs": [],
   "source": [
    "df = data.resample('5min').agg({\n",
    "    'open': \"first\", \n",
    "    \"high\": 'max', \n",
    "    'low': 'min', \n",
    "    'close': 'last', \n",
    "    'volume': 'sum', \n",
    "    }).fillna(method='ffill')"
   ]
  },
  {
   "cell_type": "code",
   "execution_count": 59,
   "metadata": {
    "scrolled": true
   },
   "outputs": [],
   "source": [
    "d1 = df[:1000].copy()\n",
    "d2 = df[:2000].copy()\n",
    "\n",
    "d1 = add_all_ta_features(d1, \"open\", \"high\", \"low\", \"close\", \"volume\", fillna='ffill')\n",
    "d2 = add_all_ta_features(d2, \"open\", \"high\", \"low\", \"close\", \"volume\", fillna='ffill')"
   ]
  },
  {
   "cell_type": "code",
   "execution_count": 60,
   "metadata": {},
   "outputs": [
    {
     "data": {
      "text/plain": [
       "Index(['open', 'high', 'low', 'close', 'volume', 'volume_adi', 'volume_obv',\n",
       "       'volume_cmf', 'volume_fi', 'volume_em', 'volume_vpt', 'volume_nvi',\n",
       "       'volatility_atr', 'volatility_bbh', 'volatility_bbl', 'volatility_bbm',\n",
       "       'volatility_bbhi', 'volatility_bbli', 'volatility_kcc',\n",
       "       'volatility_kch', 'volatility_kcl', 'volatility_kchi',\n",
       "       'volatility_kcli', 'volatility_dch', 'volatility_dcl',\n",
       "       'volatility_dchi', 'volatility_dcli', 'trend_macd', 'trend_macd_signal',\n",
       "       'trend_macd_diff', 'trend_ema_fast', 'trend_ema_slow', 'trend_adx',\n",
       "       'trend_adx_pos', 'trend_adx_neg', 'trend_vortex_ind_pos',\n",
       "       'trend_vortex_ind_neg', 'trend_vortex_diff', 'trend_trix',\n",
       "       'trend_mass_index', 'trend_cci', 'trend_dpo', 'trend_kst',\n",
       "       'trend_kst_sig', 'trend_kst_diff', 'trend_ichimoku_a',\n",
       "       'trend_ichimoku_b', 'trend_visual_ichimoku_a',\n",
       "       'trend_visual_ichimoku_b', 'trend_aroon_up', 'trend_aroon_down',\n",
       "       'trend_aroon_ind', 'momentum_rsi', 'momentum_mfi', 'momentum_tsi',\n",
       "       'momentum_uo', 'momentum_stoch', 'momentum_stoch_signal', 'momentum_wr',\n",
       "       'momentum_ao', 'momentum_kama', 'others_dr', 'others_dlr', 'others_cr'],\n",
       "      dtype='object')"
      ]
     },
     "execution_count": 60,
     "metadata": {},
     "output_type": "execute_result"
    }
   ],
   "source": [
    "d1.columns"
   ]
  },
  {
   "cell_type": "code",
   "execution_count": 61,
   "metadata": {},
   "outputs": [
    {
     "data": {
      "text/plain": [
       "True"
      ]
     },
     "execution_count": 61,
     "metadata": {},
     "output_type": "execute_result"
    }
   ],
   "source": [
    "l1 = d1[-1:]\n",
    "l2 = d2[999:1000]\n",
    "\n",
    "l1v = l1.values\n",
    "l2v = l2.values\n",
    "\n",
    "assert l1v.all() == l2v.all()\n",
    "True"
   ]
  },
  {
   "cell_type": "code",
   "execution_count": 94,
   "metadata": {},
   "outputs": [],
   "source": [
    "# df = add_all_ta_features(df, 'open', 'high', 'low', 'close', 'volume', fillna='ffill')\n",
    "\n",
    "df['momentum_rsi'] = rsi(df['close'], n=14, fillna='ffill') \n",
    "df['adx'] = adx(df['high'], df['low'], df['close'], n=14, fillna='ffill')\n",
    "\n",
    "df['adx_long'] = adx(df['high'], df['low'], df['close'], n=60, fillna='ffill')\n",
    "\n",
    "df['adx_pos'] = adx_pos(df['high'], df['low'], df['close'], n=14, fillna='ffill')\n",
    "df['adx_neg'] = adx_neg(df['high'], df['low'], df['close'], n=14, fillna='ffill')\n",
    "\n",
    "df['trend_ema_fast'] = ema_indicator(df['close'], n=12, fillna='ffill')\n",
    "df['trend_ema_slow'] = ema_indicator(df['close'], n=26, fillna='ffill')\n"
   ]
  },
  {
   "cell_type": "code",
   "execution_count": null,
   "metadata": {},
   "outputs": [],
   "source": [
    "print(df.shape)\n",
    "df.head()"
   ]
  },
  {
   "cell_type": "code",
   "execution_count": 100,
   "metadata": {},
   "outputs": [
    {
     "data": {
      "image/png": "[encoded data removed]",
      "text/plain": [
       "<Figure size 432x288 with 1 Axes>"
      ]
     },
     "metadata": {
      "needs_background": "light"
     },
     "output_type": "display_data"
    }
   ],
   "source": [
    "import matplotlib.pyplot as plt\n",
    "\n",
    "plt.plot(df[:200]['close'])\n",
    "plt.plot(df[:200]['trend_ema_fast'])\n",
    "plt.plot(df[:200]['trend_ema_slow'])\n",
    "\n",
    "plt.show()\n",
    "\n"
   ]
  },
  {
   "cell_type": "code",
   "execution_count": 103,
   "metadata": {},
   "outputs": [
    {
     "name": "stdout",
     "output_type": "stream",
     "text": [
      "Created data\\processed\\binance\\btc_usdt.csv\n"
     ]
    }
   ],
   "source": [
    "p = Path(\"./data/processed/binance/\")\n",
    "p.mkdir(parents=True, exist_ok=True)\n",
    "full_path = p / 'btc_usdt.csv'\n",
    "    \n",
    "df.to_csv(full_path, index=True)\n",
    "print('Created', full_path)"
   ]
  },
  {
   "cell_type": "code",
   "execution_count": 160,
   "metadata": {},
   "outputs": [
    {
     "name": "stdout",
     "output_type": "stream",
     "text": [
      "[8481.   8536.09 8568.85 8548.   8550.21]\n",
      "0.8160594269543583 69.20999999999913 -20.329598288656488\n",
      "-0.8094538028890417 -69.20999999999913 20.329598288656488\n"
     ]
    }
   ],
   "source": [
    "from statistics import stdev\n",
    "\n",
    "d = df[300:305]['close'].values\n",
    "print(d)\n",
    "print( 100 * (d[-1] - d[0]) / d[0], d[-1] - d[0], -1*(1+(5** np.log10(abs(d[0] - d[-1])))))\n",
    "print( 100 * (d[0] - d[-1]) / d[-1], d[0] - d[-1], abs((1+(5** np.log10(abs(d[0] - d[-1]))))))"
   ]
  },
  {
   "cell_type": "code",
   "execution_count": 170,
   "metadata": {},
   "outputs": [
    {
     "data": {
      "text/plain": [
       "0"
      ]
     },
     "execution_count": 170,
     "metadata": {},
     "output_type": "execute_result"
    }
   ],
   "source": [
    "import neat\n",
    "p =neat.Population(config= neat.Config(neat.DefaultGenome, neat.DefaultReproduction,\n",
    "                         neat.DefaultSpeciesSet, neat.DefaultStagnation,\n",
    "                         'neat.config'))\n",
    "\n",
    "p."
   ]
  }
 ],
 "metadata": {
  "kernelspec": {
   "display_name": "Python [conda env:tt_fresh] *",
   "language": "python",
   "name": "conda-env-tt_fresh-py"
  },
  "language_info": {
   "codemirror_mode": {
    "name": "ipython",
    "version": 3
   },
   "file_extension": ".py",
   "mimetype": "text/x-python",
   "name": "python",
   "nbconvert_exporter": "python",
   "pygments_lexer": "ipython3",
   "version": "3.7.4"
  }
 },
 "nbformat": 4,
 "nbformat_minor": 1
}
